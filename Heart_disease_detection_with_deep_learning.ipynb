{
  "cells": [
    {
      "cell_type": "markdown",
      "metadata": {
        "id": "jRCDTVwr_Inv"
      },
      "source": [
        "# Configuração"
      ]
    },
    {
      "cell_type": "code",
      "execution_count": null,
      "metadata": {
        "id": "O4iLUQgS_Inx"
      },
      "outputs": [],
      "source": [
        "import tensorflow as tf\n",
        "import numpy as np\n",
        "\n",
        "from tensorflow import keras\n",
        "from tensorflow.keras import layers"
      ]
    },
    {
      "cell_type": "markdown",
      "metadata": {
        "id": "6s9M74Kq_In0"
      },
      "source": [
        "# Preparando os dados\n",
        "\n"
      ]
    },
    {
      "cell_type": "markdown",
      "source": [
        "Fonte dos dados https://archive.ics.uci.edu/ml/datasets/heart+Disease\n"
      ],
      "metadata": {
        "id": "099vX21Lm3qr"
      }
    },
    {
      "cell_type": "markdown",
      "source": [
        "Our dataset is provided by the Cleveland Clinic Foundation for Heart Disease. It's a CSV file with 303 rows. Each row contains information about a patient (a sample), and each column describes an attribute of the patient (a feature). We use the features to predict whether a patient has a heart disease (binary classification)."
      ],
      "metadata": {
        "id": "Afe-zqCnnIkA"
      }
    },
    {
      "cell_type": "code",
      "source": [
        "import pandas as pd"
      ],
      "metadata": {
        "id": "8fZScuhXwN5t"
      },
      "execution_count": null,
      "outputs": []
    },
    {
      "cell_type": "code",
      "execution_count": null,
      "metadata": {
        "id": "aekHQ1xO_In1"
      },
      "outputs": [],
      "source": [
        "url_arquivo = \"http://storage.googleapis.com/download.tensorflow.org/data/heart.csv\"\n",
        "dados = pd.read_csv(url_arquivo)"
      ]
    },
    {
      "cell_type": "markdown",
      "metadata": {
        "id": "1sBoAmG5_In2"
      },
      "source": [
        "O conjunto de dados inclui 303 amostras com 14 colunas por amostra (13 caracteristicas, mais a classe alvo):"
      ]
    },
    {
      "cell_type": "code",
      "execution_count": null,
      "metadata": {
        "id": "Y_Oqr4Q3_In3",
        "colab": {
          "base_uri": "https://localhost:8080/"
        },
        "outputId": "5e91e3ea-23f0-4ede-f0cb-065b93617915"
      },
      "outputs": [
        {
          "output_type": "execute_result",
          "data": {
            "text/plain": [
              "(303, 14)"
            ]
          },
          "metadata": {},
          "execution_count": 4
        }
      ],
      "source": [
        "dados.shape"
      ]
    },
    {
      "cell_type": "markdown",
      "metadata": {
        "id": "Rk9NqxEy_In4"
      },
      "source": [
        "\n",
        "Aqui está uma prévia de algumas amostras:"
      ]
    },
    {
      "cell_type": "code",
      "execution_count": null,
      "metadata": {
        "id": "voWV0n6r_In4",
        "colab": {
          "base_uri": "https://localhost:8080/",
          "height": 206
        },
        "outputId": "a99ca28e-2a40-46ef-d0e0-83ab5f04ac7d"
      },
      "outputs": [
        {
          "output_type": "execute_result",
          "data": {
            "text/plain": [
              "   age  sex  cp  trestbps  chol  fbs  restecg  thalach  exang  oldpeak  slope  \\\n",
              "0   63    1   1       145   233    1        2      150      0      2.3      3   \n",
              "1   67    1   4       160   286    0        2      108      1      1.5      2   \n",
              "2   67    1   4       120   229    0        2      129      1      2.6      2   \n",
              "3   37    1   3       130   250    0        0      187      0      3.5      3   \n",
              "4   41    0   2       130   204    0        2      172      0      1.4      1   \n",
              "\n",
              "   ca        thal  target  \n",
              "0   0       fixed       0  \n",
              "1   3      normal       1  \n",
              "2   2  reversible       0  \n",
              "3   0      normal       0  \n",
              "4   0      normal       0  "
            ],
            "text/html": [
              "\n",
              "  <div id=\"df-52786027-c0ea-44ab-b80f-c80d682bfd5d\">\n",
              "    <div class=\"colab-df-container\">\n",
              "      <div>\n",
              "<style scoped>\n",
              "    .dataframe tbody tr th:only-of-type {\n",
              "        vertical-align: middle;\n",
              "    }\n",
              "\n",
              "    .dataframe tbody tr th {\n",
              "        vertical-align: top;\n",
              "    }\n",
              "\n",
              "    .dataframe thead th {\n",
              "        text-align: right;\n",
              "    }\n",
              "</style>\n",
              "<table border=\"1\" class=\"dataframe\">\n",
              "  <thead>\n",
              "    <tr style=\"text-align: right;\">\n",
              "      <th></th>\n",
              "      <th>age</th>\n",
              "      <th>sex</th>\n",
              "      <th>cp</th>\n",
              "      <th>trestbps</th>\n",
              "      <th>chol</th>\n",
              "      <th>fbs</th>\n",
              "      <th>restecg</th>\n",
              "      <th>thalach</th>\n",
              "      <th>exang</th>\n",
              "      <th>oldpeak</th>\n",
              "      <th>slope</th>\n",
              "      <th>ca</th>\n",
              "      <th>thal</th>\n",
              "      <th>target</th>\n",
              "    </tr>\n",
              "  </thead>\n",
              "  <tbody>\n",
              "    <tr>\n",
              "      <th>0</th>\n",
              "      <td>63</td>\n",
              "      <td>1</td>\n",
              "      <td>1</td>\n",
              "      <td>145</td>\n",
              "      <td>233</td>\n",
              "      <td>1</td>\n",
              "      <td>2</td>\n",
              "      <td>150</td>\n",
              "      <td>0</td>\n",
              "      <td>2.3</td>\n",
              "      <td>3</td>\n",
              "      <td>0</td>\n",
              "      <td>fixed</td>\n",
              "      <td>0</td>\n",
              "    </tr>\n",
              "    <tr>\n",
              "      <th>1</th>\n",
              "      <td>67</td>\n",
              "      <td>1</td>\n",
              "      <td>4</td>\n",
              "      <td>160</td>\n",
              "      <td>286</td>\n",
              "      <td>0</td>\n",
              "      <td>2</td>\n",
              "      <td>108</td>\n",
              "      <td>1</td>\n",
              "      <td>1.5</td>\n",
              "      <td>2</td>\n",
              "      <td>3</td>\n",
              "      <td>normal</td>\n",
              "      <td>1</td>\n",
              "    </tr>\n",
              "    <tr>\n",
              "      <th>2</th>\n",
              "      <td>67</td>\n",
              "      <td>1</td>\n",
              "      <td>4</td>\n",
              "      <td>120</td>\n",
              "      <td>229</td>\n",
              "      <td>0</td>\n",
              "      <td>2</td>\n",
              "      <td>129</td>\n",
              "      <td>1</td>\n",
              "      <td>2.6</td>\n",
              "      <td>2</td>\n",
              "      <td>2</td>\n",
              "      <td>reversible</td>\n",
              "      <td>0</td>\n",
              "    </tr>\n",
              "    <tr>\n",
              "      <th>3</th>\n",
              "      <td>37</td>\n",
              "      <td>1</td>\n",
              "      <td>3</td>\n",
              "      <td>130</td>\n",
              "      <td>250</td>\n",
              "      <td>0</td>\n",
              "      <td>0</td>\n",
              "      <td>187</td>\n",
              "      <td>0</td>\n",
              "      <td>3.5</td>\n",
              "      <td>3</td>\n",
              "      <td>0</td>\n",
              "      <td>normal</td>\n",
              "      <td>0</td>\n",
              "    </tr>\n",
              "    <tr>\n",
              "      <th>4</th>\n",
              "      <td>41</td>\n",
              "      <td>0</td>\n",
              "      <td>2</td>\n",
              "      <td>130</td>\n",
              "      <td>204</td>\n",
              "      <td>0</td>\n",
              "      <td>2</td>\n",
              "      <td>172</td>\n",
              "      <td>0</td>\n",
              "      <td>1.4</td>\n",
              "      <td>1</td>\n",
              "      <td>0</td>\n",
              "      <td>normal</td>\n",
              "      <td>0</td>\n",
              "    </tr>\n",
              "  </tbody>\n",
              "</table>\n",
              "</div>\n",
              "      <button class=\"colab-df-convert\" onclick=\"convertToInteractive('df-52786027-c0ea-44ab-b80f-c80d682bfd5d')\"\n",
              "              title=\"Convert this dataframe to an interactive table.\"\n",
              "              style=\"display:none;\">\n",
              "        \n",
              "  <svg xmlns=\"http://www.w3.org/2000/svg\" height=\"24px\"viewBox=\"0 0 24 24\"\n",
              "       width=\"24px\">\n",
              "    <path d=\"M0 0h24v24H0V0z\" fill=\"none\"/>\n",
              "    <path d=\"M18.56 5.44l.94 2.06.94-2.06 2.06-.94-2.06-.94-.94-2.06-.94 2.06-2.06.94zm-11 1L8.5 8.5l.94-2.06 2.06-.94-2.06-.94L8.5 2.5l-.94 2.06-2.06.94zm10 10l.94 2.06.94-2.06 2.06-.94-2.06-.94-.94-2.06-.94 2.06-2.06.94z\"/><path d=\"M17.41 7.96l-1.37-1.37c-.4-.4-.92-.59-1.43-.59-.52 0-1.04.2-1.43.59L10.3 9.45l-7.72 7.72c-.78.78-.78 2.05 0 2.83L4 21.41c.39.39.9.59 1.41.59.51 0 1.02-.2 1.41-.59l7.78-7.78 2.81-2.81c.8-.78.8-2.07 0-2.86zM5.41 20L4 18.59l7.72-7.72 1.47 1.35L5.41 20z\"/>\n",
              "  </svg>\n",
              "      </button>\n",
              "      \n",
              "  <style>\n",
              "    .colab-df-container {\n",
              "      display:flex;\n",
              "      flex-wrap:wrap;\n",
              "      gap: 12px;\n",
              "    }\n",
              "\n",
              "    .colab-df-convert {\n",
              "      background-color: #E8F0FE;\n",
              "      border: none;\n",
              "      border-radius: 50%;\n",
              "      cursor: pointer;\n",
              "      display: none;\n",
              "      fill: #1967D2;\n",
              "      height: 32px;\n",
              "      padding: 0 0 0 0;\n",
              "      width: 32px;\n",
              "    }\n",
              "\n",
              "    .colab-df-convert:hover {\n",
              "      background-color: #E2EBFA;\n",
              "      box-shadow: 0px 1px 2px rgba(60, 64, 67, 0.3), 0px 1px 3px 1px rgba(60, 64, 67, 0.15);\n",
              "      fill: #174EA6;\n",
              "    }\n",
              "\n",
              "    [theme=dark] .colab-df-convert {\n",
              "      background-color: #3B4455;\n",
              "      fill: #D2E3FC;\n",
              "    }\n",
              "\n",
              "    [theme=dark] .colab-df-convert:hover {\n",
              "      background-color: #434B5C;\n",
              "      box-shadow: 0px 1px 3px 1px rgba(0, 0, 0, 0.15);\n",
              "      filter: drop-shadow(0px 1px 2px rgba(0, 0, 0, 0.3));\n",
              "      fill: #FFFFFF;\n",
              "    }\n",
              "  </style>\n",
              "\n",
              "      <script>\n",
              "        const buttonEl =\n",
              "          document.querySelector('#df-52786027-c0ea-44ab-b80f-c80d682bfd5d button.colab-df-convert');\n",
              "        buttonEl.style.display =\n",
              "          google.colab.kernel.accessAllowed ? 'block' : 'none';\n",
              "\n",
              "        async function convertToInteractive(key) {\n",
              "          const element = document.querySelector('#df-52786027-c0ea-44ab-b80f-c80d682bfd5d');\n",
              "          const dataTable =\n",
              "            await google.colab.kernel.invokeFunction('convertToInteractive',\n",
              "                                                     [key], {});\n",
              "          if (!dataTable) return;\n",
              "\n",
              "          const docLinkHtml = 'Like what you see? Visit the ' +\n",
              "            '<a target=\"_blank\" href=https://colab.research.google.com/notebooks/data_table.ipynb>data table notebook</a>'\n",
              "            + ' to learn more about interactive tables.';\n",
              "          element.innerHTML = '';\n",
              "          dataTable['output_type'] = 'display_data';\n",
              "          await google.colab.output.renderOutput(dataTable, element);\n",
              "          const docLink = document.createElement('div');\n",
              "          docLink.innerHTML = docLinkHtml;\n",
              "          element.appendChild(docLink);\n",
              "        }\n",
              "      </script>\n",
              "    </div>\n",
              "  </div>\n",
              "  "
            ]
          },
          "metadata": {},
          "execution_count": 5
        }
      ],
      "source": [
        "dados.head()"
      ]
    },
    {
      "cell_type": "code",
      "source": [
        "X=dados.values[:,0:13]\n",
        "y=dados.values[:,13]"
      ],
      "metadata": {
        "id": "Jej5vKs4BQ--"
      },
      "execution_count": null,
      "outputs": []
    },
    {
      "cell_type": "code",
      "source": [
        "X.shape"
      ],
      "metadata": {
        "colab": {
          "base_uri": "https://localhost:8080/"
        },
        "id": "Mw5Hny6KCGrH",
        "outputId": "3e6676e7-7f1c-4946-b9fd-b58e02354616"
      },
      "execution_count": null,
      "outputs": [
        {
          "output_type": "execute_result",
          "data": {
            "text/plain": [
              "(303, 13)"
            ]
          },
          "metadata": {},
          "execution_count": 7
        }
      ]
    },
    {
      "cell_type": "code",
      "source": [
        "y.shape"
      ],
      "metadata": {
        "colab": {
          "base_uri": "https://localhost:8080/"
        },
        "id": "iJcOyj9rCqOo",
        "outputId": "4cc1a558-09b7-47df-82cc-d71ed0694696"
      },
      "execution_count": null,
      "outputs": [
        {
          "output_type": "execute_result",
          "data": {
            "text/plain": [
              "(303,)"
            ]
          },
          "metadata": {},
          "execution_count": 8
        }
      ]
    },
    {
      "cell_type": "code",
      "source": [
        "y"
      ],
      "metadata": {
        "colab": {
          "base_uri": "https://localhost:8080/"
        },
        "id": "g1Ss4v_NCNgC",
        "outputId": "7146b9ad-d1af-49f7-cc5b-ac44bf12568e"
      },
      "execution_count": null,
      "outputs": [
        {
          "output_type": "execute_result",
          "data": {
            "text/plain": [
              "array([0, 1, 0, 0, 0, 0, 1, 0, 1, 0, 0, 0, 1, 0, 0, 0, 0, 0, 0, 0, 0, 0,\n",
              "       0, 1, 1, 0, 0, 0, 0, 1, 0, 1, 0, 0, 0, 0, 1, 0, 1, 0, 1, 0, 1, 0,\n",
              "       0, 0, 0, 0, 0, 0, 1, 0, 0, 0, 1, 0, 0, 0, 0, 0, 0, 1, 0, 0, 0, 0,\n",
              "       1, 0, 0, 0, 1, 0, 1, 0, 0, 1, 1, 0, 0, 0, 0, 0, 0, 0, 0, 1, 1, 0,\n",
              "       0, 0, 0, 0, 0, 0, 0, 1, 0, 0, 0, 0, 0, 0, 1, 1, 0, 0, 0, 1, 0, 0,\n",
              "       1, 0, 0, 0, 0, 0, 0, 0, 1, 0, 0, 0, 1, 0, 0, 0, 0, 0, 1, 1, 0, 0,\n",
              "       0, 0, 0, 1, 0, 1, 0, 1, 1, 0, 1, 0, 0, 0, 0, 0, 0, 0, 0, 0, 1, 1,\n",
              "       1, 0, 0, 0, 1, 0, 1, 0, 0, 0, 0, 0, 0, 0, 0, 0, 1, 0, 0, 0, 0, 1,\n",
              "       1, 0, 1, 0, 0, 0, 1, 1, 0, 0, 0, 0, 0, 0, 1, 0, 1, 1, 0, 1, 0, 0,\n",
              "       0, 0, 0, 0, 0, 0, 0, 0, 0, 0, 1, 0, 0, 1, 1, 1, 0, 0, 0, 0, 1, 0,\n",
              "       0, 0, 0, 0, 0, 0, 1, 0, 1, 0, 1, 1, 1, 0, 0, 0, 0, 1, 1, 0, 0, 1,\n",
              "       0, 0, 1, 1, 0, 0, 0, 0, 0, 0, 0, 0, 0, 0, 0, 1, 0, 1, 0, 0, 0, 0,\n",
              "       1, 0, 0, 0, 0, 0, 0, 0, 1, 0, 0, 0, 1, 1, 0, 0, 1, 0, 1, 1, 0, 0,\n",
              "       0, 0, 0, 0, 1, 0, 1, 0, 1, 1, 0, 0, 0, 1, 1, 1, 1], dtype=object)"
            ]
          },
          "metadata": {},
          "execution_count": 9
        }
      ]
    },
    {
      "cell_type": "code",
      "source": [
        "y=y.astype('int')"
      ],
      "metadata": {
        "id": "vb5O-a64GSVp"
      },
      "execution_count": null,
      "outputs": []
    },
    {
      "cell_type": "code",
      "source": [
        "y"
      ],
      "metadata": {
        "colab": {
          "base_uri": "https://localhost:8080/"
        },
        "id": "q-aKiPBCGTme",
        "outputId": "c0e353ca-ce27-408d-e08b-3db44d569427"
      },
      "execution_count": null,
      "outputs": [
        {
          "output_type": "execute_result",
          "data": {
            "text/plain": [
              "array([0, 1, 0, 0, 0, 0, 1, 0, 1, 0, 0, 0, 1, 0, 0, 0, 0, 0, 0, 0, 0, 0,\n",
              "       0, 1, 1, 0, 0, 0, 0, 1, 0, 1, 0, 0, 0, 0, 1, 0, 1, 0, 1, 0, 1, 0,\n",
              "       0, 0, 0, 0, 0, 0, 1, 0, 0, 0, 1, 0, 0, 0, 0, 0, 0, 1, 0, 0, 0, 0,\n",
              "       1, 0, 0, 0, 1, 0, 1, 0, 0, 1, 1, 0, 0, 0, 0, 0, 0, 0, 0, 1, 1, 0,\n",
              "       0, 0, 0, 0, 0, 0, 0, 1, 0, 0, 0, 0, 0, 0, 1, 1, 0, 0, 0, 1, 0, 0,\n",
              "       1, 0, 0, 0, 0, 0, 0, 0, 1, 0, 0, 0, 1, 0, 0, 0, 0, 0, 1, 1, 0, 0,\n",
              "       0, 0, 0, 1, 0, 1, 0, 1, 1, 0, 1, 0, 0, 0, 0, 0, 0, 0, 0, 0, 1, 1,\n",
              "       1, 0, 0, 0, 1, 0, 1, 0, 0, 0, 0, 0, 0, 0, 0, 0, 1, 0, 0, 0, 0, 1,\n",
              "       1, 0, 1, 0, 0, 0, 1, 1, 0, 0, 0, 0, 0, 0, 1, 0, 1, 1, 0, 1, 0, 0,\n",
              "       0, 0, 0, 0, 0, 0, 0, 0, 0, 0, 1, 0, 0, 1, 1, 1, 0, 0, 0, 0, 1, 0,\n",
              "       0, 0, 0, 0, 0, 0, 1, 0, 1, 0, 1, 1, 1, 0, 0, 0, 0, 1, 1, 0, 0, 1,\n",
              "       0, 0, 1, 1, 0, 0, 0, 0, 0, 0, 0, 0, 0, 0, 0, 1, 0, 1, 0, 0, 0, 0,\n",
              "       1, 0, 0, 0, 0, 0, 0, 0, 1, 0, 0, 0, 1, 1, 0, 0, 1, 0, 1, 1, 0, 0,\n",
              "       0, 0, 0, 0, 1, 0, 1, 0, 1, 1, 0, 0, 0, 1, 1, 1, 1])"
            ]
          },
          "metadata": {},
          "execution_count": 11
        }
      ]
    },
    {
      "cell_type": "code",
      "source": [
        "X[0,:]"
      ],
      "metadata": {
        "colab": {
          "base_uri": "https://localhost:8080/"
        },
        "id": "6iuL0YtZ0M5a",
        "outputId": "2ee41383-b84a-486e-b311-d563a2518a7e"
      },
      "execution_count": null,
      "outputs": [
        {
          "output_type": "execute_result",
          "data": {
            "text/plain": [
              "array([63, 1, 1, 145, 233, 1, 2, 150, 0, 2.3, 3, 0, 'fixed'], dtype=object)"
            ]
          },
          "metadata": {},
          "execution_count": 12
        }
      ]
    },
    {
      "cell_type": "markdown",
      "source": [
        "O thal é um característica que indica o diagnóstico de um teste de estresse. O paciente pode ter um comportamento normal, um problema estabelecido (fixed) e um problema reversivel\n",
        "https://www.jwatch.org/jw199412230000005/1994/12/23/fixed-thallium-defects-how-important"
      ],
      "metadata": {
        "id": "-KZlOlpxuEtg"
      }
    },
    {
      "cell_type": "code",
      "source": [
        "X[:,12]"
      ],
      "metadata": {
        "colab": {
          "base_uri": "https://localhost:8080/"
        },
        "id": "V20PW5QYC2vE",
        "outputId": "50958e13-e324-4de2-b69b-8e3b40550a22"
      },
      "execution_count": null,
      "outputs": [
        {
          "output_type": "execute_result",
          "data": {
            "text/plain": [
              "array(['fixed', 'normal', 'reversible', 'normal', 'normal', 'normal',\n",
              "       'normal', 'normal', 'reversible', 'reversible', 'fixed', 'normal',\n",
              "       'fixed', 'reversible', 'reversible', 'normal', 'reversible',\n",
              "       'normal', 'normal', 'normal', 'normal', 'normal', 'normal',\n",
              "       'reversible', 'reversible', 'normal', 'normal', 'normal', 'normal',\n",
              "       'reversible', 'normal', 'reversible', 'normal', 'reversible',\n",
              "       'normal', 'normal', 'reversible', 'fixed', 'reversible', 'normal',\n",
              "       'reversible', 'normal', 'reversible', 'reversible', 'fixed',\n",
              "       'normal', 'normal', 'reversible', 'normal', 'normal', 'reversible',\n",
              "       'normal', 'normal', 'normal', 'reversible', 'normal', 'normal',\n",
              "       'normal', 'normal', 'normal', 'normal', 'reversible', 'reversible',\n",
              "       'normal', 'normal', 'reversible', 'reversible', 'fixed', 'normal',\n",
              "       'normal', 'reversible', 'normal', 'reversible', 'normal', 'normal',\n",
              "       'reversible', 'reversible', 'normal', 'normal', 'reversible',\n",
              "       'reversible', 'normal', 'normal', 'normal', 'normal', 'reversible',\n",
              "       'reversible', 'reversible', 'normal', 'normal', 'reversible',\n",
              "       'normal', 'reversible', 'reversible', 'normal', 'reversible',\n",
              "       'normal', 'normal', 'normal', 'reversible', 'normal', 'reversible',\n",
              "       'reversible', 'normal', 'normal', 'reversible', 'reversible',\n",
              "       'reversible', 'reversible', 'reversible', 'normal', 'normal',\n",
              "       'normal', 'normal', 'reversible', 'normal', 'reversible', 'normal',\n",
              "       'reversible', 'reversible', 'normal', 'normal', 'fixed',\n",
              "       'reversible', 'reversible', 'fixed', 'normal', 'normal',\n",
              "       'reversible', 'reversible', 'normal', 'reversible', 'normal',\n",
              "       'normal', 'reversible', 'fixed', 'reversible', 'reversible',\n",
              "       'normal', 'reversible', 'normal', 'normal', 'normal', 'normal',\n",
              "       'normal', 'normal', 'normal', 'normal', 'normal', 'reversible',\n",
              "       'reversible', 'reversible', 'reversible', 'reversible',\n",
              "       'reversible', 'normal', 'normal', 'normal', 'reversible', 'normal',\n",
              "       'reversible', 'normal', 'reversible', 'normal', 'normal', 'normal',\n",
              "       'normal', 'normal', 'normal', 'normal', 'reversible', 'normal',\n",
              "       'normal', 'normal', 'normal', 'normal', 'normal', 'normal',\n",
              "       'normal', 'normal', 'normal', 'normal', 'normal', 'reversible',\n",
              "       'reversible', 'normal', 'normal', 'normal', 'normal', 'normal',\n",
              "       'normal', 'normal', 'normal', 'reversible', 'normal', 'reversible',\n",
              "       'normal', 'fixed', 'reversible', 'reversible', 'normal', 'normal',\n",
              "       'normal', 'normal', 'normal', 'normal', 'reversible', 'normal',\n",
              "       'normal', 'normal', 'normal', 'normal', 'fixed', 'fixed',\n",
              "       'reversible', 'normal', 'reversible', 'fixed', 'reversible',\n",
              "       'normal', 'normal', 'reversible', 'normal', 'normal', 'normal',\n",
              "       'normal', 'reversible', 'normal', 'reversible', 'normal',\n",
              "       'reversible', 'fixed', 'fixed', 'reversible', 'normal',\n",
              "       'reversible', 'normal', 'fixed', 'reversible', 'normal', 'normal',\n",
              "       'fixed', 'reversible', 'reversible', 'reversible', 'reversible',\n",
              "       'normal', '1', 'normal', 'normal', 'normal', 'normal', '2',\n",
              "       'reversible', 'normal', 'normal', 'normal', 'reversible', 'normal',\n",
              "       'reversible', 'normal', 'normal', 'normal', 'reversible', 'normal',\n",
              "       'normal', 'reversible', 'reversible', 'reversible', 'reversible',\n",
              "       'normal', 'normal', 'reversible', 'normal', 'reversible', 'normal',\n",
              "       'reversible', 'reversible', 'normal', 'reversible', 'reversible',\n",
              "       'normal', 'reversible', 'reversible', 'normal', 'normal', 'normal',\n",
              "       'normal', 'normal', 'normal', 'reversible', 'reversible',\n",
              "       'reversible', 'reversible', 'reversible', 'reversible',\n",
              "       'reversible', 'normal', 'fixed', 'reversible', 'reversible',\n",
              "       'reversible', 'reversible'], dtype=object)"
            ]
          },
          "metadata": {},
          "execution_count": 13
        }
      ]
    },
    {
      "cell_type": "code",
      "source": [
        "indices=np.where(X[:,12]=='fixed')\n",
        "X[indices,12]=0"
      ],
      "metadata": {
        "id": "S8zAApyPDFrD"
      },
      "execution_count": null,
      "outputs": []
    },
    {
      "cell_type": "code",
      "source": [
        "X[indices,12]"
      ],
      "metadata": {
        "colab": {
          "base_uri": "https://localhost:8080/"
        },
        "id": "BkIRGbNQD4PV",
        "outputId": "0febd9c6-9f66-48cb-fb51-c6d2fbc677e8"
      },
      "execution_count": null,
      "outputs": [
        {
          "output_type": "execute_result",
          "data": {
            "text/plain": [
              "array([[0, 0, 0, 0, 0, 0, 0, 0, 0, 0, 0, 0, 0, 0, 0, 0, 0, 0]],\n",
              "      dtype=object)"
            ]
          },
          "metadata": {},
          "execution_count": 15
        }
      ]
    },
    {
      "cell_type": "code",
      "source": [
        "indices=np.where(X[:,12]=='normal')\n",
        "X[indices,12]=1\n",
        "indices=np.where(X[:,12]=='reversible')\n",
        "X[indices,12]=2"
      ],
      "metadata": {
        "id": "maqgmfRGD8hv"
      },
      "execution_count": null,
      "outputs": []
    },
    {
      "cell_type": "code",
      "source": [
        "X[0]"
      ],
      "metadata": {
        "colab": {
          "base_uri": "https://localhost:8080/"
        },
        "id": "utmqtG1cECgO",
        "outputId": "9c7e152c-f813-4126-c6bc-b70df6535cb6"
      },
      "execution_count": null,
      "outputs": [
        {
          "output_type": "execute_result",
          "data": {
            "text/plain": [
              "array([63, 1, 1, 145, 233, 1, 2, 150, 0, 2.3, 3, 0, 0], dtype=object)"
            ]
          },
          "metadata": {},
          "execution_count": 17
        }
      ]
    },
    {
      "cell_type": "markdown",
      "source": [
        "# Análise exploratoria"
      ],
      "metadata": {
        "id": "C5RzVZevBPdF"
      }
    },
    {
      "cell_type": "code",
      "source": [
        "import seaborn as sns\n",
        "\n",
        "f = sns.countplot(x='target', data=dados)\n",
        "f.set_title(\"Heart disease distribution\")\n",
        "f.set_xticklabels(['No Heart disease', 'Heart Disease'])\n",
        "#plt.xlabel(\"\");"
      ],
      "metadata": {
        "id": "nJM2sbINjzTr",
        "colab": {
          "base_uri": "https://localhost:8080/",
          "height": 312
        },
        "outputId": "e0ee0605-2100-4209-eeac-39001db1a0e8"
      },
      "execution_count": null,
      "outputs": [
        {
          "output_type": "execute_result",
          "data": {
            "text/plain": [
              "[Text(0, 0, 'No Heart disease'), Text(0, 0, 'Heart Disease')]"
            ]
          },
          "metadata": {},
          "execution_count": 18
        },
        {
          "output_type": "display_data",
          "data": {
            "text/plain": [
              "<Figure size 432x288 with 1 Axes>"
            ],
            "image/png": "[encoded data removed]"
          },
          "metadata": {
            "needs_background": "light"
          }
        }
      ]
    },
    {
      "cell_type": "markdown",
      "source": [
        "Podemos ver no gráfico acima que a distribuição entre doenças cardíacas positivas e negativas é desbalanceada e isso pode dificultar as coisas para um algoritmo de aprendizado. De qualquer forma, nós só temos esses dados agora para trabalhar. Em seguida, vamos estender a distribuição acima para sexo masculino e feminino."
      ],
      "metadata": {
        "id": "pZlBkJz7zotg"
      }
    },
    {
      "cell_type": "code",
      "source": [
        "import matplotlib.pyplot as plt\n",
        "\n",
        "quantidades = dados['target'].value_counts()\n",
        "plt.bar(quantidades.index, quantidades.values)\n",
        "plt.xlabel('alvo')\n",
        "plt.ylabel(\"quantidade\")\n",
        "nomes_alvos=['Sem doença no coração', 'Com doença no coração']\n",
        "plt.xticks([0, 1], nomes_alvos)\n",
        "plt.show()"
      ],
      "metadata": {
        "colab": {
          "base_uri": "https://localhost:8080/",
          "height": 279
        },
        "id": "vqC2c544i1Ci",
        "outputId": "fa4d1942-c5a7-4c88-f2db-e004d84be257"
      },
      "execution_count": null,
      "outputs": [
        {
          "output_type": "display_data",
          "data": {
            "text/plain": [
              "<Figure size 432x288 with 1 Axes>"
            ],
            "image/png": "[encoded data removed]"
          },
          "metadata": {
            "needs_background": "light"
          }
        }
      ]
    },
    {
      "cell_type": "code",
      "source": [
        "import matplotlib.pyplot as plt\n",
        "\n",
        "f = sns.countplot(x='target', data=dados, hue='sex')\n",
        "plt.legend(['Mulher', 'Homen'])\n",
        "f.set_title(\"Doença no coração por gênero\")\n",
        "f.set_xticklabels(['Sem doença no coração', 'Com doença no coração'])\n",
        "plt.xlabel(\"\");"
      ],
      "metadata": {
        "colab": {
          "base_uri": "https://localhost:8080/",
          "height": 281
        },
        "id": "Zh3iIZlzkRyX",
        "outputId": "72ad6242-0911-4750-c912-530e3f05a34b"
      },
      "execution_count": null,
      "outputs": [
        {
          "output_type": "display_data",
          "data": {
            "text/plain": [
              "<Figure size 432x288 with 1 Axes>"
            ],
            "image/png": "[encoded data removed]"
          },
          "metadata": {
            "needs_background": "light"
          }
        }
      ]
    },
    {
      "cell_type": "code",
      "source": [
        "import matplotlib.pyplot as plt\n",
        "from matplotlib.pyplot import figure\n",
        "figure(figsize=(12, 6))\n",
        "\n",
        "quantidades_homens=dados[dados['sex']==1]['target'].value_counts()\n",
        "quantidades_mulheres=dados[dados['sex']==0]['target'].value_counts()\n",
        "\n",
        "plt.subplot(1, 2, 1)\n",
        "plt.bar(quantidades_homens.index, quantidades_homens.values)\n",
        "plt.xlabel('homens')\n",
        "plt.ylabel(\"quantidade\")\n",
        "nomes_alvos=['Sem doença no coração', 'Com doença no coração']\n",
        "plt.xticks([0, 1], nomes_alvos)\n",
        "\n",
        "plt.subplot(1, 2, 2)\n",
        "plt.bar(quantidades_mulheres.index, quantidades_mulheres.values)\n",
        "plt.xlabel('mulheres')\n",
        "plt.ylabel(\"quantidade\")\n",
        "nomes_alvos=['Sem doença no coração', 'Com doença no coração']\n",
        "plt.xticks([0, 1], nomes_alvos)\n",
        "\n",
        "\n",
        "\n",
        "plt.show()\n",
        "\n",
        "\n",
        "\n"
      ],
      "metadata": {
        "colab": {
          "base_uri": "https://localhost:8080/",
          "height": 388
        },
        "id": "Y0KdJT46yfTm",
        "outputId": "47bd1c2e-b2a1-4649-97a4-e4ee513b8e71"
      },
      "execution_count": null,
      "outputs": [
        {
          "output_type": "display_data",
          "data": {
            "text/plain": [
              "<Figure size 864x432 with 2 Axes>"
            ],
            "image/png": "[encoded data removed]"
          },
          "metadata": {
            "needs_background": "light"
          }
        }
      ]
    },
    {
      "cell_type": "markdown",
      "source": [
        "Do gráfico acima, podemos ver que o sexo não é uma característica que possa induzir a classificação. Se olharmos outras características veremos o mesmo.\n",
        "\n",
        "É importante também ter caracteristicas que não sejam reudundantes. Ou seja, que tenham baixa correlação. Assim não faremos nosso modelo trabalhar processar mais que o necessário. Esse conjunto de dados já foi preprocessado e não deve ter caracteristicas com alta correlacao, mas vamos verificar isso."
      ],
      "metadata": {
        "id": "RfZrtFkaluKT"
      }
    },
    {
      "cell_type": "markdown",
      "source": [
        "A matriz de correlação ou mapa de calor é muito útil para destacar as variáveis mais correlacionadas em uma tabela de dados. Neste gráfico, os coeficientes de correlação são coloridos de acordo com o valor: Vamos traçar um mapa de calor da matriz de correlação como abaixo."
      ],
      "metadata": {
        "id": "85oTVwn5l5W0"
      }
    },
    {
      "cell_type": "code",
      "source": [
        "plt.rcParams[\"figure.figsize\"] = (7,7)\n",
        "heat_map = sns.heatmap(dados.corr(method='pearson'), annot=True, fmt='.2f', linewidths=2)\n",
        "heat_map.set_xticklabels(heat_map.get_xticklabels(), rotation=45);\n"
      ],
      "metadata": {
        "colab": {
          "base_uri": "https://localhost:8080/",
          "height": 458
        },
        "id": "6w03MT5ml6Um",
        "outputId": "df1cceec-ae23-4ce4-ef31-33d1b30fced0"
      },
      "execution_count": null,
      "outputs": [
        {
          "output_type": "display_data",
          "data": {
            "text/plain": [
              "<Figure size 504x504 with 2 Axes>"
            ],
            "image/png": "[encoded data removed]"
          },
          "metadata": {
            "needs_background": "light"
          }
        }
      ]
    },
    {
      "cell_type": "markdown",
      "source": [
        "Como você pode observar, não há uma forte correlação entre nenhuma das 14 características\n",
        "\n"
      ],
      "metadata": {
        "id": "04GkAYqAmTZ2"
      }
    },
    {
      "cell_type": "markdown",
      "source": [
        "# Experimentando um classificador SVM como linha de base"
      ],
      "metadata": {
        "id": "3Wje0SZHEPEv"
      }
    },
    {
      "cell_type": "code",
      "source": [
        "from sklearn.model_selection import train_test_split\n",
        "X_train, X_test, y_train, y_test = train_test_split(X, y, test_size=0.33, random_state=42)"
      ],
      "metadata": {
        "id": "3fE4_tdkGjfu"
      },
      "execution_count": null,
      "outputs": []
    },
    {
      "cell_type": "code",
      "source": [
        "from sklearn.pipeline import make_pipeline\n",
        "from sklearn.preprocessing import StandardScaler\n",
        "from sklearn.svm import SVC #support vector classifier\n",
        "#from sklearn.svm import LinearSVC\n",
        "clf = make_pipeline(StandardScaler(), SVC(gamma='auto'))\n",
        "clf.fit(X_train, y_train)"
      ],
      "metadata": {
        "colab": {
          "base_uri": "https://localhost:8080/"
        },
        "id": "bHb39q4ZEScE",
        "outputId": "0cf8227e-d711-48e6-9a19-03db9fb72bb2"
      },
      "execution_count": null,
      "outputs": [
        {
          "output_type": "execute_result",
          "data": {
            "text/plain": [
              "Pipeline(steps=[('standardscaler', StandardScaler()),\n",
              "                ('svc', SVC(gamma='auto'))])"
            ]
          },
          "metadata": {},
          "execution_count": 24
        }
      ]
    },
    {
      "cell_type": "code",
      "source": [
        "clf.score(X_test,y_test)"
      ],
      "metadata": {
        "colab": {
          "base_uri": "https://localhost:8080/"
        },
        "id": "410eLXV_Ge8r",
        "outputId": "24bebb9f-1f00-4ec8-cc09-e93dec350c58"
      },
      "execution_count": null,
      "outputs": [
        {
          "output_type": "execute_result",
          "data": {
            "text/plain": [
              "0.85"
            ]
          },
          "metadata": {},
          "execution_count": 25
        }
      ]
    },
    {
      "cell_type": "markdown",
      "source": [
        "# Experimentando um classificado dummy como linha de base"
      ],
      "metadata": {
        "id": "LBdotgsoYb9h"
      }
    },
    {
      "cell_type": "code",
      "source": [
        "from sklearn.dummy import DummyClassifier\n",
        "dummy_clf = DummyClassifier(strategy=\"most_frequent\")\n",
        "dummy_clf.fit(X, y)\n",
        "dummy_clf.score(X, y)"
      ],
      "metadata": {
        "colab": {
          "base_uri": "https://localhost:8080/"
        },
        "id": "bwngNfsaYbWs",
        "outputId": "2120b31c-ba5f-4440-a7e5-0679acf05396"
      },
      "execution_count": null,
      "outputs": [
        {
          "output_type": "execute_result",
          "data": {
            "text/plain": [
              "0.7260726072607261"
            ]
          },
          "metadata": {},
          "execution_count": 26
        }
      ]
    },
    {
      "cell_type": "markdown",
      "source": [
        "#rede neural"
      ],
      "metadata": {
        "id": "pY83j-6cGy0b"
      }
    },
    {
      "cell_type": "code",
      "source": [
        "import tensorflow\n",
        "from tensorflow import keras"
      ],
      "metadata": {
        "id": "FZLYm6OZGyoz"
      },
      "execution_count": null,
      "outputs": []
    },
    {
      "cell_type": "code",
      "source": [
        "qtd_saida=1; #classificacao binaria\n",
        "qtd_entrada=len(X[0]);"
      ],
      "metadata": {
        "id": "4nRV4t1RG46x"
      },
      "execution_count": null,
      "outputs": []
    },
    {
      "cell_type": "code",
      "source": [
        "print(qtd_saida)\n",
        "print(qtd_entrada)"
      ],
      "metadata": {
        "colab": {
          "base_uri": "https://localhost:8080/"
        },
        "id": "59edMGJ3HEgD",
        "outputId": "23513c68-4a6f-45e2-f392-79e33109ce95"
      },
      "execution_count": null,
      "outputs": [
        {
          "output_type": "stream",
          "name": "stdout",
          "text": [
            "1\n",
            "13\n"
          ]
        }
      ]
    },
    {
      "cell_type": "code",
      "source": [
        "scaler = StandardScaler()\n",
        "X_scaled = scaler.fit_transform(X)\n",
        "X_scaled"
      ],
      "metadata": {
        "id": "WQuY_3UdHbME",
        "colab": {
          "base_uri": "https://localhost:8080/"
        },
        "outputId": "eacda2c9-d809-494e-9629-4b82ff0d1d17"
      },
      "execution_count": null,
      "outputs": [
        {
          "output_type": "execute_result",
          "data": {
            "text/plain": [
              "array([[ 0.9338399 ,  0.69141072, -2.05403599, ...,  2.28495852,\n",
              "        -0.72970605, -2.27760043],\n",
              "       [ 1.3782113 ,  0.69141072,  0.86790253, ...,  0.66354767,\n",
              "         2.47465531, -0.55662055],\n",
              "       [ 1.3782113 ,  0.69141072,  0.86790253, ...,  0.66354767,\n",
              "         1.40653485,  1.16435932],\n",
              "       ...,\n",
              "       [ 1.1560256 ,  0.69141072,  0.86790253, ...,  0.66354767,\n",
              "         0.3384144 ,  1.16435932],\n",
              "       [-0.73255285,  0.69141072,  0.86790253, ..., -0.95786317,\n",
              "         1.40653485,  1.16435932],\n",
              "       [ 0.9338399 , -1.44631834,  0.86790253, ...,  0.66354767,\n",
              "         2.47465531,  1.16435932]])"
            ]
          },
          "metadata": {},
          "execution_count": 30
        }
      ]
    },
    {
      "cell_type": "code",
      "source": [
        "X_train_scaled, X_test_scaled, y_train, y_test = train_test_split(X_scaled, y, test_size=0.33, random_state=42)"
      ],
      "metadata": {
        "id": "8pZbQUKx-c6o"
      },
      "execution_count": null,
      "outputs": []
    },
    {
      "cell_type": "code",
      "source": [
        "#X = np.asarray(X).astype('float32')"
      ],
      "metadata": {
        "id": "-6c6Gv4IH5jD"
      },
      "execution_count": null,
      "outputs": []
    },
    {
      "cell_type": "code",
      "source": [
        "X_train_scaled.shape"
      ],
      "metadata": {
        "colab": {
          "base_uri": "https://localhost:8080/"
        },
        "id": "8NnlJcf3ITpe",
        "outputId": "94b94429-ab62-4994-9f68-ba9314bccd04"
      },
      "execution_count": null,
      "outputs": [
        {
          "output_type": "execute_result",
          "data": {
            "text/plain": [
              "(203, 13)"
            ]
          },
          "metadata": {},
          "execution_count": 33
        }
      ]
    },
    {
      "cell_type": "code",
      "source": [
        "modelo = keras.Sequential()\n",
        "modelo.add(keras.layers.Input(13))\n",
        "modelo.add(keras.layers.Dense(13, activation='relu'))\n",
        "modelo.add(keras.layers.Dense(1,activation='sigmoid'))\n",
        "\n",
        "modelo.compile(\n",
        "               optimizer=keras.optimizers.SGD(),\n",
        "               loss=keras.losses.binary_crossentropy,\n",
        "               metrics=['accuracy'])\n",
        "modelo.summary()\n",
        "\n",
        "historico = modelo.fit(X_train_scaled, y_train, epochs=20)\n",
        "\n",
        "#from keras.callbacks import EarlyStopping\n",
        "#early_stopping = EarlyStopping(monitor='val_loss', patience=10, mode='auto')\n",
        "#early_stopping = EarlyStopping(monitor='val_accuracy', patience=5, mode='auto')\n",
        "\n",
        "#historico = modelo.fit(X_train_scaled, y_train, epochs=100, validation_split=0.2, batch_size=8, callbacks = [early_stopping])"
      ],
      "metadata": {
        "colab": {
          "base_uri": "https://localhost:8080/"
        },
        "id": "D1Men7bjThMo",
        "outputId": "92842ec1-7d05-4c5f-8a12-ea58fd4ed4b4"
      },
      "execution_count": null,
      "outputs": [
        {
          "output_type": "stream",
          "name": "stdout",
          "text": [
            "Model: \"sequential\"\n",
            "_________________________________________________________________\n",
            " Layer (type)                Output Shape              Param #   \n",
            "=================================================================\n",
            " dense (Dense)               (None, 13)                182       \n",
            "                                                                 \n",
            " dense_1 (Dense)             (None, 1)                 14        \n",
            "                                                                 \n",
            "=================================================================\n",
            "Total params: 196\n",
            "Trainable params: 196\n",
            "Non-trainable params: 0\n",
            "_________________________________________________________________\n",
            "Epoch 1/20\n",
            "7/7 [==============================] - 1s 4ms/step - loss: 0.7822 - accuracy: 0.4483\n",
            "Epoch 2/20\n",
            "7/7 [==============================] - 0s 4ms/step - loss: 0.7636 - accuracy: 0.4581\n",
            "Epoch 3/20\n",
            "7/7 [==============================] - 0s 3ms/step - loss: 0.7467 - accuracy: 0.4532\n",
            "Epoch 4/20\n",
            "7/7 [==============================] - 0s 4ms/step - loss: 0.7311 - accuracy: 0.4926\n",
            "Epoch 5/20\n",
            "7/7 [==============================] - 0s 4ms/step - loss: 0.7170 - accuracy: 0.4975\n",
            "Epoch 6/20\n",
            "7/7 [==============================] - 0s 4ms/step - loss: 0.7039 - accuracy: 0.5369\n",
            "Epoch 7/20\n",
            "7/7 [==============================] - 0s 4ms/step - loss: 0.6916 - accuracy: 0.5813\n",
            "Epoch 8/20\n",
            "7/7 [==============================] - 0s 4ms/step - loss: 0.6802 - accuracy: 0.6010\n",
            "Epoch 9/20\n",
            "7/7 [==============================] - 0s 5ms/step - loss: 0.6692 - accuracy: 0.6108\n",
            "Epoch 10/20\n",
            "7/7 [==============================] - 0s 4ms/step - loss: 0.6586 - accuracy: 0.6355\n",
            "Epoch 11/20\n",
            "7/7 [==============================] - 0s 4ms/step - loss: 0.6482 - accuracy: 0.6453\n",
            "Epoch 12/20\n",
            "7/7 [==============================] - 0s 4ms/step - loss: 0.6387 - accuracy: 0.6700\n",
            "Epoch 13/20\n",
            "7/7 [==============================] - 0s 4ms/step - loss: 0.6298 - accuracy: 0.6897\n",
            "Epoch 14/20\n",
            "7/7 [==============================] - 0s 4ms/step - loss: 0.6217 - accuracy: 0.6995\n",
            "Epoch 15/20\n",
            "7/7 [==============================] - 0s 4ms/step - loss: 0.6138 - accuracy: 0.7143\n",
            "Epoch 16/20\n",
            "7/7 [==============================] - 0s 4ms/step - loss: 0.6062 - accuracy: 0.7241\n",
            "Epoch 17/20\n",
            "7/7 [==============================] - 0s 4ms/step - loss: 0.5986 - accuracy: 0.7291\n",
            "Epoch 18/20\n",
            "7/7 [==============================] - 0s 4ms/step - loss: 0.5916 - accuracy: 0.7340\n",
            "Epoch 19/20\n",
            "7/7 [==============================] - 0s 6ms/step - loss: 0.5848 - accuracy: 0.7340\n",
            "Epoch 20/20\n",
            "7/7 [==============================] - 0s 5ms/step - loss: 0.5785 - accuracy: 0.7537\n"
          ]
        }
      ]
    },
    {
      "cell_type": "code",
      "source": [
        "plt.figure(figsize=(10, 5))\n",
        "plt.subplot(1, 2, 1)\n",
        "plt.plot(historico.history['accuracy'])\n",
        "plt.title('Acurácia por época')\n",
        "plt.xlabel('época')\n",
        "plt.ylabel('acurácia')\n",
        "plt.legend(['treino'])\n",
        "\n",
        "plt.subplot(1, 2, 2)\n",
        "plt.plot(historico.history['loss'])\n",
        "plt.title('Perda por época')\n",
        "plt.xlabel('época')\n",
        "plt.ylabel('perda')\n",
        "plt.legend(['treino'])"
      ],
      "metadata": {
        "colab": {
          "base_uri": "https://localhost:8080/",
          "height": 367
        },
        "id": "T4MXJe9ZUlKA",
        "outputId": "6ac05ad4-443c-4995-ae3d-22c9052cce72"
      },
      "execution_count": null,
      "outputs": [
        {
          "output_type": "execute_result",
          "data": {
            "text/plain": [
              "<matplotlib.legend.Legend at 0x7fe18a207d50>"
            ]
          },
          "metadata": {},
          "execution_count": 35
        },
        {
          "output_type": "display_data",
          "data": {
            "text/plain": [
              "<Figure size 720x360 with 2 Axes>"
            ],
            "image/png": "[encoded data removed]"
          },
          "metadata": {
            "needs_background": "light"
          }
        }
      ]
    },
    {
      "cell_type": "code",
      "source": [
        "perda_teste, acuracia_teste = modelo.evaluate(X_test_scaled, y_test)\n",
        "print('Perda do teste:', perda_teste)\n",
        "print('Acurácia do teste:', acuracia_teste)"
      ],
      "metadata": {
        "colab": {
          "base_uri": "https://localhost:8080/"
        },
        "id": "M82fGrSTR4Ib",
        "outputId": "1ed6c111-4c74-47bf-b010-b91432b923ea"
      },
      "execution_count": null,
      "outputs": [
        {
          "output_type": "stream",
          "name": "stdout",
          "text": [
            "4/4 [==============================] - 0s 5ms/step - loss: 0.5891 - accuracy: 0.6900\n",
            "Perda do teste: 0.5890772938728333\n",
            "Acurácia do teste: 0.6899999976158142\n"
          ]
        }
      ]
    },
    {
      "cell_type": "markdown",
      "source": [
        "#Revisando o modelo de diagnóstico\n"
      ],
      "metadata": {
        "id": "3K1H0ZrSTJ5z"
      }
    },
    {
      "cell_type": "markdown",
      "source": [
        "## mais neuronios e camadas"
      ],
      "metadata": {
        "id": "ziFqvxsqTCxP"
      }
    },
    {
      "cell_type": "code",
      "source": [
        "modelo = keras.Sequential(name='modelo1')\n",
        "modelo.add(keras.layers.Input(13))\n",
        "modelo.add(keras.layers.Dense(13, activation='relu'))\n",
        "modelo.add(keras.layers.Dense(13, activation='relu'))\n",
        "modelo.add(keras.layers.Dense(1,activation='sigmoid'))\n",
        "\n",
        "modelo.compile(\n",
        "               optimizer=keras.optimizers.SGD(),\n",
        "               loss=keras.losses.binary_crossentropy,\n",
        "               metrics=['accuracy'])\n",
        "\n",
        "\n",
        "modelo.summary()\n",
        "\n",
        "historico = modelo.fit(X_train_scaled, y_train, epochs=20, batch_size=32)\n",
        "\n",
        "\n"
      ],
      "metadata": {
        "colab": {
          "base_uri": "https://localhost:8080/"
        },
        "id": "dNrCYpREHn37",
        "outputId": "c819be21-32e2-4836-c733-e372f67b69b7"
      },
      "execution_count": null,
      "outputs": [
        {
          "output_type": "stream",
          "name": "stdout",
          "text": [
            "Model: \"modelo1\"\n",
            "_________________________________________________________________\n",
            " Layer (type)                Output Shape              Param #   \n",
            "=================================================================\n",
            " dense_2 (Dense)             (None, 13)                182       \n",
            "                                                                 \n",
            " dense_3 (Dense)             (None, 13)                182       \n",
            "                                                                 \n",
            " dense_4 (Dense)             (None, 1)                 14        \n",
            "                                                                 \n",
            "=================================================================\n",
            "Total params: 378\n",
            "Trainable params: 378\n",
            "Non-trainable params: 0\n",
            "_________________________________________________________________\n",
            "Epoch 1/20\n",
            "7/7 [==============================] - 1s 4ms/step - loss: 0.7013 - accuracy: 0.5813\n",
            "Epoch 2/20\n",
            "7/7 [==============================] - 0s 4ms/step - loss: 0.6881 - accuracy: 0.6010\n",
            "Epoch 3/20\n",
            "7/7 [==============================] - 0s 3ms/step - loss: 0.6749 - accuracy: 0.5911\n",
            "Epoch 4/20\n",
            "7/7 [==============================] - 0s 3ms/step - loss: 0.6637 - accuracy: 0.6158\n",
            "Epoch 5/20\n",
            "7/7 [==============================] - 0s 3ms/step - loss: 0.6538 - accuracy: 0.6453\n",
            "Epoch 6/20\n",
            "7/7 [==============================] - 0s 5ms/step - loss: 0.6457 - accuracy: 0.6552\n",
            "Epoch 7/20\n",
            "7/7 [==============================] - 0s 6ms/step - loss: 0.6374 - accuracy: 0.6601\n",
            "Epoch 8/20\n",
            "7/7 [==============================] - 0s 8ms/step - loss: 0.6292 - accuracy: 0.6798\n",
            "Epoch 9/20\n",
            "7/7 [==============================] - 0s 4ms/step - loss: 0.6223 - accuracy: 0.6946\n",
            "Epoch 10/20\n",
            "7/7 [==============================] - 0s 7ms/step - loss: 0.6152 - accuracy: 0.6995\n",
            "Epoch 11/20\n",
            "7/7 [==============================] - 0s 4ms/step - loss: 0.6088 - accuracy: 0.7143\n",
            "Epoch 12/20\n",
            "7/7 [==============================] - 0s 4ms/step - loss: 0.6029 - accuracy: 0.7241\n",
            "Epoch 13/20\n",
            "7/7 [==============================] - 0s 6ms/step - loss: 0.5975 - accuracy: 0.7241\n",
            "Epoch 14/20\n",
            "7/7 [==============================] - 0s 6ms/step - loss: 0.5917 - accuracy: 0.7291\n",
            "Epoch 15/20\n",
            "7/7 [==============================] - 0s 5ms/step - loss: 0.5864 - accuracy: 0.7340\n",
            "Epoch 16/20\n",
            "7/7 [==============================] - 0s 3ms/step - loss: 0.5816 - accuracy: 0.7389\n",
            "Epoch 17/20\n",
            "7/7 [==============================] - 0s 5ms/step - loss: 0.5770 - accuracy: 0.7389\n",
            "Epoch 18/20\n",
            "7/7 [==============================] - 0s 4ms/step - loss: 0.5722 - accuracy: 0.7438\n",
            "Epoch 19/20\n",
            "7/7 [==============================] - 0s 5ms/step - loss: 0.5679 - accuracy: 0.7438\n",
            "Epoch 20/20\n",
            "7/7 [==============================] - 0s 4ms/step - loss: 0.5636 - accuracy: 0.7488\n"
          ]
        }
      ]
    },
    {
      "cell_type": "code",
      "source": [
        "perda_teste, acuracia_teste = modelo.evaluate(X_test_scaled, y_test)\n",
        "print('Perda do teste:', perda_teste)\n",
        "print('Acurácia do teste:', acuracia_teste)"
      ],
      "metadata": {
        "colab": {
          "base_uri": "https://localhost:8080/"
        },
        "id": "H42a3d3aO00Y",
        "outputId": "e4ed9900-75b6-40b2-ffa9-a377e3cd2b72"
      },
      "execution_count": null,
      "outputs": [
        {
          "output_type": "stream",
          "name": "stdout",
          "text": [
            "4/4 [==============================] - 0s 5ms/step - loss: 0.5594 - accuracy: 0.7500\n",
            "Perda do teste: 0.5594236254692078\n",
            "Acurácia do teste: 0.75\n"
          ]
        }
      ]
    },
    {
      "cell_type": "code",
      "source": [
        "plt.figure(figsize=(10, 5))\n",
        "plt.subplot(1, 2, 1)\n",
        "plt.plot(historico.history['accuracy'])\n",
        "plt.title('Acurácia por época')\n",
        "plt.xlabel('época')\n",
        "plt.ylabel('acurácia')\n",
        "plt.legend(['treino'])\n",
        "\n",
        "plt.subplot(1, 2, 2)\n",
        "plt.plot(historico.history['loss'])\n",
        "plt.title('Perda por época')\n",
        "plt.xlabel('época')\n",
        "plt.ylabel('perda')\n",
        "plt.legend(['treino'])"
      ],
      "metadata": {
        "colab": {
          "base_uri": "https://localhost:8080/",
          "height": 367
        },
        "id": "6VA0vNADO9jw",
        "outputId": "b0a7926e-6f00-4eee-f119-185167dcaadd"
      },
      "execution_count": null,
      "outputs": [
        {
          "output_type": "execute_result",
          "data": {
            "text/plain": [
              "<matplotlib.legend.Legend at 0x7fe189f4b690>"
            ]
          },
          "metadata": {},
          "execution_count": 39
        },
        {
          "output_type": "display_data",
          "data": {
            "text/plain": [
              "<Figure size 720x360 with 2 Axes>"
            ],
            "image/png": "[encoded data removed]"
          },
          "metadata": {
            "needs_background": "light"
          }
        }
      ]
    },
    {
      "cell_type": "markdown",
      "source": [
        "## variando a taxa de aprendizado"
      ],
      "metadata": {
        "id": "W78TXXvrRVz-"
      }
    },
    {
      "cell_type": "code",
      "source": [
        "modelo = keras.Sequential()\n",
        "modelo.add(keras.layers.Input(13))\n",
        "\n",
        "modelo.add(keras.layers.Dense(13, activation='relu'))\n",
        "\n",
        "#modelo.add(keras.layers.Dense(13, activation='relu'))\n",
        "\n",
        "modelo.add(keras.layers.Dense(1,activation='sigmoid'))\n",
        "\n",
        "modelo.compile(\n",
        "               optimizer=keras.optimizers.SGD(learning_rate=1),               \n",
        "               loss=keras.losses.binary_crossentropy,\n",
        "               metrics=['accuracy'])\n",
        "\n",
        "modelo.summary()\n",
        "\n",
        "historico = modelo.fit(X_train_scaled, y_train, epochs=20, batch_size=32)\n",
        "\n"
      ],
      "metadata": {
        "colab": {
          "base_uri": "https://localhost:8080/"
        },
        "id": "EFhGENqURka8",
        "outputId": "f2289a6b-6c68-43ba-8c94-d040b0b0dba3"
      },
      "execution_count": null,
      "outputs": [
        {
          "output_type": "stream",
          "name": "stdout",
          "text": [
            "Model: \"sequential_1\"\n",
            "_________________________________________________________________\n",
            " Layer (type)                Output Shape              Param #   \n",
            "=================================================================\n",
            " dense_5 (Dense)             (None, 13)                182       \n",
            "                                                                 \n",
            " dense_6 (Dense)             (None, 1)                 14        \n",
            "                                                                 \n",
            "=================================================================\n",
            "Total params: 196\n",
            "Trainable params: 196\n",
            "Non-trainable params: 0\n",
            "_________________________________________________________________\n",
            "Epoch 1/20\n",
            "7/7 [==============================] - 1s 3ms/step - loss: 0.4829 - accuracy: 0.7635\n",
            "Epoch 2/20\n",
            "7/7 [==============================] - 0s 4ms/step - loss: 0.3389 - accuracy: 0.8325\n",
            "Epoch 3/20\n",
            "7/7 [==============================] - 0s 5ms/step - loss: 0.3093 - accuracy: 0.8424\n",
            "Epoch 4/20\n",
            "7/7 [==============================] - 0s 3ms/step - loss: 0.2867 - accuracy: 0.8473\n",
            "Epoch 5/20\n",
            "7/7 [==============================] - 0s 10ms/step - loss: 0.2660 - accuracy: 0.8719\n",
            "Epoch 6/20\n",
            "7/7 [==============================] - 0s 6ms/step - loss: 0.2909 - accuracy: 0.8670\n",
            "Epoch 7/20\n",
            "7/7 [==============================] - 0s 8ms/step - loss: 0.2348 - accuracy: 0.8818\n",
            "Epoch 8/20\n",
            "7/7 [==============================] - 0s 8ms/step - loss: 0.2240 - accuracy: 0.8867\n",
            "Epoch 9/20\n",
            "7/7 [==============================] - 0s 7ms/step - loss: 0.2390 - accuracy: 0.8818\n",
            "Epoch 10/20\n",
            "7/7 [==============================] - 0s 5ms/step - loss: 0.2090 - accuracy: 0.9064\n",
            "Epoch 11/20\n",
            "7/7 [==============================] - 0s 4ms/step - loss: 0.2081 - accuracy: 0.9064\n",
            "Epoch 12/20\n",
            "7/7 [==============================] - 0s 5ms/step - loss: 0.2096 - accuracy: 0.9064\n",
            "Epoch 13/20\n",
            "7/7 [==============================] - 0s 4ms/step - loss: 0.2034 - accuracy: 0.8966\n",
            "Epoch 14/20\n",
            "7/7 [==============================] - 0s 6ms/step - loss: 0.1874 - accuracy: 0.9163\n",
            "Epoch 15/20\n",
            "7/7 [==============================] - 0s 4ms/step - loss: 0.1735 - accuracy: 0.9212\n",
            "Epoch 16/20\n",
            "7/7 [==============================] - 0s 5ms/step - loss: 0.1774 - accuracy: 0.9212\n",
            "Epoch 17/20\n",
            "7/7 [==============================] - 0s 4ms/step - loss: 0.2014 - accuracy: 0.9064\n",
            "Epoch 18/20\n",
            "7/7 [==============================] - 0s 4ms/step - loss: 0.1584 - accuracy: 0.9409\n",
            "Epoch 19/20\n",
            "7/7 [==============================] - 0s 3ms/step - loss: 0.1630 - accuracy: 0.9310\n",
            "Epoch 20/20\n",
            "7/7 [==============================] - 0s 5ms/step - loss: 0.1497 - accuracy: 0.9458\n"
          ]
        }
      ]
    },
    {
      "cell_type": "code",
      "source": [
        "perda_teste, acuracia_teste = modelo.evaluate(X_test_scaled, y_test)\n",
        "print('Perda do teste:', perda_teste)\n",
        "print('Acurácia do teste:', acuracia_teste)"
      ],
      "metadata": {
        "colab": {
          "base_uri": "https://localhost:8080/"
        },
        "id": "1tvC-NssRvsr",
        "outputId": "621a4796-9b3e-4305-fb10-cde7ba414922"
      },
      "execution_count": null,
      "outputs": [
        {
          "output_type": "stream",
          "name": "stdout",
          "text": [
            "4/4 [==============================] - 0s 5ms/step - loss: 0.4705 - accuracy: 0.8200\n",
            "Perda do teste: 0.47049862146377563\n",
            "Acurácia do teste: 0.8199999928474426\n"
          ]
        }
      ]
    },
    {
      "cell_type": "markdown",
      "source": [
        " a diferença entre a acurácia de treino e teste está bem grande"
      ],
      "metadata": {
        "id": "XBQNl8rshWrF"
      }
    },
    {
      "cell_type": "code",
      "source": [
        "plt.figure(figsize=(10, 5))\n",
        "plt.subplot(1, 2, 1)\n",
        "plt.plot(historico.history['accuracy'])\n",
        "plt.title('Acurácia por época')\n",
        "plt.xlabel('época')\n",
        "plt.ylabel('acurácia')\n",
        "plt.legend(['treino'])\n",
        "\n",
        "plt.subplot(1, 2, 2)\n",
        "plt.plot(historico.history['loss'])\n",
        "plt.title('Perda por época')\n",
        "plt.xlabel('época')\n",
        "plt.ylabel('perda')\n",
        "plt.legend(['treino'])"
      ],
      "metadata": {
        "colab": {
          "base_uri": "https://localhost:8080/",
          "height": 367
        },
        "id": "N0KfjAebRzDE",
        "outputId": "cc9a681d-e9e7-434c-b91f-f15ad77bc655"
      },
      "execution_count": null,
      "outputs": [
        {
          "output_type": "execute_result",
          "data": {
            "text/plain": [
              "<matplotlib.legend.Legend at 0x7fe19360bd90>"
            ]
          },
          "metadata": {},
          "execution_count": 42
        },
        {
          "output_type": "display_data",
          "data": {
            "text/plain": [
              "<Figure size 720x360 with 2 Axes>"
            ],
            "image/png": "[encoded data removed]"
          },
          "metadata": {
            "needs_background": "light"
          }
        }
      ]
    },
    {
      "cell_type": "code",
      "source": [
        "modelo = keras.Sequential()\n",
        "modelo.add(keras.layers.Input(13))\n",
        "\n",
        "modelo.add(keras.layers.Dense(13, activation='relu'))\n",
        "\n",
        "#modelo.add(keras.layers.Dense(13, activation='relu'))\n",
        "\n",
        "modelo.add(keras.layers.Dense(1,activation='sigmoid'))\n",
        "\n",
        "modelo.compile(\n",
        "               optimizer=keras.optimizers.SGD(learning_rate=0.001),               \n",
        "               loss=keras.losses.binary_crossentropy,\n",
        "               metrics=['accuracy'])\n",
        "\n",
        "modelo.summary()\n",
        "\n",
        "historico = modelo.fit(X_train_scaled, y_train, epochs=20, batch_size=32)"
      ],
      "metadata": {
        "colab": {
          "base_uri": "https://localhost:8080/"
        },
        "id": "lHr3Rb7Qf1hs",
        "outputId": "a04a5e2d-40b6-42f0-82b5-36b1921b4da6"
      },
      "execution_count": null,
      "outputs": [
        {
          "output_type": "stream",
          "name": "stdout",
          "text": [
            "Model: \"sequential_2\"\n",
            "_________________________________________________________________\n",
            " Layer (type)                Output Shape              Param #   \n",
            "=================================================================\n",
            " dense_7 (Dense)             (None, 13)                182       \n",
            "                                                                 \n",
            " dense_8 (Dense)             (None, 1)                 14        \n",
            "                                                                 \n",
            "=================================================================\n",
            "Total params: 196\n",
            "Trainable params: 196\n",
            "Non-trainable params: 0\n",
            "_________________________________________________________________\n",
            "Epoch 1/20\n",
            "7/7 [==============================] - 1s 3ms/step - loss: 0.6910 - accuracy: 0.6256\n",
            "Epoch 2/20\n",
            "7/7 [==============================] - 0s 4ms/step - loss: 0.6889 - accuracy: 0.6256\n",
            "Epoch 3/20\n",
            "7/7 [==============================] - 0s 3ms/step - loss: 0.6868 - accuracy: 0.6256\n",
            "Epoch 4/20\n",
            "7/7 [==============================] - 0s 3ms/step - loss: 0.6845 - accuracy: 0.6305\n",
            "Epoch 5/20\n",
            "7/7 [==============================] - 0s 3ms/step - loss: 0.6824 - accuracy: 0.6355\n",
            "Epoch 6/20\n",
            "7/7 [==============================] - 0s 7ms/step - loss: 0.6803 - accuracy: 0.6355\n",
            "Epoch 7/20\n",
            "7/7 [==============================] - 0s 5ms/step - loss: 0.6782 - accuracy: 0.6453\n",
            "Epoch 8/20\n",
            "7/7 [==============================] - 0s 3ms/step - loss: 0.6761 - accuracy: 0.6502\n",
            "Epoch 9/20\n",
            "7/7 [==============================] - 0s 3ms/step - loss: 0.6741 - accuracy: 0.6552\n",
            "Epoch 10/20\n",
            "7/7 [==============================] - 0s 5ms/step - loss: 0.6720 - accuracy: 0.6552\n",
            "Epoch 11/20\n",
            "7/7 [==============================] - 0s 4ms/step - loss: 0.6700 - accuracy: 0.6552\n",
            "Epoch 12/20\n",
            "7/7 [==============================] - 0s 3ms/step - loss: 0.6679 - accuracy: 0.6601\n",
            "Epoch 13/20\n",
            "7/7 [==============================] - 0s 6ms/step - loss: 0.6659 - accuracy: 0.6650\n",
            "Epoch 14/20\n",
            "7/7 [==============================] - 0s 8ms/step - loss: 0.6639 - accuracy: 0.6650\n",
            "Epoch 15/20\n",
            "7/7 [==============================] - 0s 8ms/step - loss: 0.6620 - accuracy: 0.6650\n",
            "Epoch 16/20\n",
            "7/7 [==============================] - 0s 5ms/step - loss: 0.6599 - accuracy: 0.6650\n",
            "Epoch 17/20\n",
            "7/7 [==============================] - 0s 4ms/step - loss: 0.6581 - accuracy: 0.6650\n",
            "Epoch 18/20\n",
            "7/7 [==============================] - 0s 4ms/step - loss: 0.6562 - accuracy: 0.6650\n",
            "Epoch 19/20\n",
            "7/7 [==============================] - 0s 6ms/step - loss: 0.6544 - accuracy: 0.6650\n",
            "Epoch 20/20\n",
            "7/7 [==============================] - 0s 5ms/step - loss: 0.6525 - accuracy: 0.6700\n"
          ]
        }
      ]
    },
    {
      "cell_type": "code",
      "source": [
        "perda_teste, acuracia_teste = modelo.evaluate(X_test_scaled, y_test)\n",
        "print('Perda do teste:', perda_teste)\n",
        "print('Acurácia do teste:', acuracia_teste)"
      ],
      "metadata": {
        "colab": {
          "base_uri": "https://localhost:8080/"
        },
        "id": "kvojxyiHf9t4",
        "outputId": "42c3e99e-2c72-4add-a7b8-682859a9bf90"
      },
      "execution_count": null,
      "outputs": [
        {
          "output_type": "stream",
          "name": "stdout",
          "text": [
            "4/4 [==============================] - 0s 4ms/step - loss: 0.6343 - accuracy: 0.6700\n",
            "Perda do teste: 0.6342647075653076\n",
            "Acurácia do teste: 0.6700000166893005\n"
          ]
        }
      ]
    },
    {
      "cell_type": "markdown",
      "source": [
        "##outro otimizador"
      ],
      "metadata": {
        "id": "YPA-ag7HRg5i"
      }
    },
    {
      "cell_type": "code",
      "source": [
        "modelo = keras.Sequential(name='modelo1')\n",
        "modelo.add(keras.layers.Input(13))\n",
        "modelo.add(keras.layers.Dense(13, activation='relu'))\n",
        "#modelo.add(keras.layers.Dense(13, activation='relu'))\n",
        "modelo.add(keras.layers.Dense(1,activation='sigmoid'))\n",
        "\n",
        "modelo.compile(\n",
        "               optimizer=keras.optimizers.RMSprop(),\n",
        "               loss=keras.losses.binary_crossentropy,\n",
        "               metrics=['accuracy'])\n",
        "\n",
        "modelo.summary()\n",
        "\n",
        "historico = modelo.fit(X_train_scaled, y_train, epochs=20, batch_size=32)\n",
        "\n"
      ],
      "metadata": {
        "colab": {
          "base_uri": "https://localhost:8080/"
        },
        "id": "gt8O9NeZ9PnE",
        "outputId": "0bd05fce-4a64-4d8f-8b96-74966bf477df"
      },
      "execution_count": null,
      "outputs": [
        {
          "output_type": "stream",
          "name": "stdout",
          "text": [
            "Model: \"modelo1\"\n",
            "_________________________________________________________________\n",
            " Layer (type)                Output Shape              Param #   \n",
            "=================================================================\n",
            " dense_9 (Dense)             (None, 13)                182       \n",
            "                                                                 \n",
            " dense_10 (Dense)            (None, 1)                 14        \n",
            "                                                                 \n",
            "=================================================================\n",
            "Total params: 196\n",
            "Trainable params: 196\n",
            "Non-trainable params: 0\n",
            "_________________________________________________________________\n",
            "Epoch 1/20\n",
            "7/7 [==============================] - 2s 5ms/step - loss: 0.6699 - accuracy: 0.6059\n",
            "Epoch 2/20\n",
            "7/7 [==============================] - 0s 3ms/step - loss: 0.6287 - accuracy: 0.6552\n",
            "Epoch 3/20\n",
            "7/7 [==============================] - 0s 5ms/step - loss: 0.6025 - accuracy: 0.6798\n",
            "Epoch 4/20\n",
            "7/7 [==============================] - 0s 4ms/step - loss: 0.5799 - accuracy: 0.6897\n",
            "Epoch 5/20\n",
            "7/7 [==============================] - 0s 3ms/step - loss: 0.5612 - accuracy: 0.7044\n",
            "Epoch 6/20\n",
            "7/7 [==============================] - 0s 3ms/step - loss: 0.5431 - accuracy: 0.7291\n",
            "Epoch 7/20\n",
            "7/7 [==============================] - 0s 4ms/step - loss: 0.5271 - accuracy: 0.7389\n",
            "Epoch 8/20\n",
            "7/7 [==============================] - 0s 3ms/step - loss: 0.5128 - accuracy: 0.7488\n",
            "Epoch 9/20\n",
            "7/7 [==============================] - 0s 3ms/step - loss: 0.4994 - accuracy: 0.7488\n",
            "Epoch 10/20\n",
            "7/7 [==============================] - 0s 5ms/step - loss: 0.4872 - accuracy: 0.7586\n",
            "Epoch 11/20\n",
            "7/7 [==============================] - 0s 6ms/step - loss: 0.4749 - accuracy: 0.7586\n",
            "Epoch 12/20\n",
            "7/7 [==============================] - 0s 4ms/step - loss: 0.4637 - accuracy: 0.7586\n",
            "Epoch 13/20\n",
            "7/7 [==============================] - 0s 3ms/step - loss: 0.4539 - accuracy: 0.7537\n",
            "Epoch 14/20\n",
            "7/7 [==============================] - 0s 4ms/step - loss: 0.4446 - accuracy: 0.7635\n",
            "Epoch 15/20\n",
            "7/7 [==============================] - 0s 3ms/step - loss: 0.4355 - accuracy: 0.7635\n",
            "Epoch 16/20\n",
            "7/7 [==============================] - 0s 4ms/step - loss: 0.4272 - accuracy: 0.7734\n",
            "Epoch 17/20\n",
            "7/7 [==============================] - 0s 5ms/step - loss: 0.4195 - accuracy: 0.7833\n",
            "Epoch 18/20\n",
            "7/7 [==============================] - 0s 4ms/step - loss: 0.4123 - accuracy: 0.8030\n",
            "Epoch 19/20\n",
            "7/7 [==============================] - 0s 4ms/step - loss: 0.4059 - accuracy: 0.8128\n",
            "Epoch 20/20\n",
            "7/7 [==============================] - 0s 5ms/step - loss: 0.3998 - accuracy: 0.8128\n"
          ]
        }
      ]
    },
    {
      "cell_type": "code",
      "source": [
        "perda_teste, acuracia_teste = modelo.evaluate(X_test_scaled, y_test)\n",
        "print('Perda do teste:', perda_teste)\n",
        "print('Acurácia do teste:', acuracia_teste)"
      ],
      "metadata": {
        "colab": {
          "base_uri": "https://localhost:8080/"
        },
        "id": "7pehg4TE9WC7",
        "outputId": "18a86036-b7bc-4726-bc0e-93a01ef77ea5"
      },
      "execution_count": null,
      "outputs": [
        {
          "output_type": "stream",
          "name": "stdout",
          "text": [
            "4/4 [==============================] - 0s 4ms/step - loss: 0.3941 - accuracy: 0.8400\n",
            "Perda do teste: 0.39406144618988037\n",
            "Acurácia do teste: 0.8399999737739563\n"
          ]
        }
      ]
    },
    {
      "cell_type": "code",
      "source": [
        "plt.figure(figsize=(10, 5))\n",
        "plt.subplot(1, 2, 1)\n",
        "plt.plot(historico.history['accuracy'])\n",
        "plt.title('Acurácia por época')\n",
        "plt.xlabel('época')\n",
        "plt.ylabel('acurácia')\n",
        "plt.legend(['treino'])\n",
        "\n",
        "plt.subplot(1, 2, 2)\n",
        "plt.plot(historico.history['loss'])\n",
        "plt.title('Perda por época')\n",
        "plt.xlabel('época')\n",
        "plt.ylabel('perda')\n",
        "plt.legend(['treino'])"
      ],
      "metadata": {
        "colab": {
          "base_uri": "https://localhost:8080/",
          "height": 367
        },
        "id": "jW0Z-T679cvJ",
        "outputId": "92643ca7-3b34-4d2a-e429-1858f97771ca"
      },
      "execution_count": null,
      "outputs": [
        {
          "output_type": "execute_result",
          "data": {
            "text/plain": [
              "<matplotlib.legend.Legend at 0x7fe189bb16d0>"
            ]
          },
          "metadata": {},
          "execution_count": 47
        },
        {
          "output_type": "display_data",
          "data": {
            "text/plain": [
              "<Figure size 720x360 with 2 Axes>"
            ],
            "image/png": "[encoded data removed]"
          },
          "metadata": {
            "needs_background": "light"
          }
        }
      ]
    },
    {
      "cell_type": "markdown",
      "source": [
        "##deep learning na verdade usa mais camadas"
      ],
      "metadata": {
        "id": "U2-MgpQLmkkB"
      }
    },
    {
      "cell_type": "code",
      "source": [
        "modelo = keras.Sequential(name='modelo1')\n",
        "modelo.add(keras.layers.Input(13))\n",
        "modelo.add(keras.layers.Dense(13, activation='relu'))\n",
        "modelo.add(keras.layers.Dense(13, activation='relu'))\n",
        "modelo.add(keras.layers.Dense(1,activation='sigmoid'))\n",
        "\n",
        "modelo.compile(\n",
        "               optimizer=keras.optimizers.RMSprop(),\n",
        "               loss=keras.losses.binary_crossentropy,\n",
        "               metrics=['accuracy'])\n",
        "\n",
        "modelo.summary()\n",
        "\n",
        "historico = modelo.fit(X_train_scaled, y_train, epochs=20, batch_size=32)"
      ],
      "metadata": {
        "colab": {
          "base_uri": "https://localhost:8080/"
        },
        "id": "Y9feeq_jhpMp",
        "outputId": "76968fd1-b459-4df1-9256-5a46288ac936"
      },
      "execution_count": null,
      "outputs": [
        {
          "output_type": "stream",
          "name": "stdout",
          "text": [
            "Model: \"modelo1\"\n",
            "_________________________________________________________________\n",
            " Layer (type)                Output Shape              Param #   \n",
            "=================================================================\n",
            " dense_11 (Dense)            (None, 13)                182       \n",
            "                                                                 \n",
            " dense_12 (Dense)            (None, 13)                182       \n",
            "                                                                 \n",
            " dense_13 (Dense)            (None, 1)                 14        \n",
            "                                                                 \n",
            "=================================================================\n",
            "Total params: 378\n",
            "Trainable params: 378\n",
            "Non-trainable params: 0\n",
            "_________________________________________________________________\n",
            "Epoch 1/20\n",
            "7/7 [==============================] - 1s 4ms/step - loss: 0.7255 - accuracy: 0.5468\n",
            "Epoch 2/20\n",
            "7/7 [==============================] - 0s 5ms/step - loss: 0.6882 - accuracy: 0.5616\n",
            "Epoch 3/20\n",
            "7/7 [==============================] - 0s 5ms/step - loss: 0.6656 - accuracy: 0.6059\n",
            "Epoch 4/20\n",
            "7/7 [==============================] - 0s 6ms/step - loss: 0.6454 - accuracy: 0.6059\n",
            "Epoch 5/20\n",
            "7/7 [==============================] - 0s 7ms/step - loss: 0.6268 - accuracy: 0.6305\n",
            "Epoch 6/20\n",
            "7/7 [==============================] - 0s 5ms/step - loss: 0.6081 - accuracy: 0.6502\n",
            "Epoch 7/20\n",
            "7/7 [==============================] - 0s 5ms/step - loss: 0.5916 - accuracy: 0.6650\n",
            "Epoch 8/20\n",
            "7/7 [==============================] - 0s 6ms/step - loss: 0.5769 - accuracy: 0.6995\n",
            "Epoch 9/20\n",
            "7/7 [==============================] - 0s 4ms/step - loss: 0.5624 - accuracy: 0.7094\n",
            "Epoch 10/20\n",
            "7/7 [==============================] - 0s 5ms/step - loss: 0.5489 - accuracy: 0.7241\n",
            "Epoch 11/20\n",
            "7/7 [==============================] - 0s 4ms/step - loss: 0.5359 - accuracy: 0.7241\n",
            "Epoch 12/20\n",
            "7/7 [==============================] - 0s 3ms/step - loss: 0.5226 - accuracy: 0.7438\n",
            "Epoch 13/20\n",
            "7/7 [==============================] - 0s 4ms/step - loss: 0.5104 - accuracy: 0.7586\n",
            "Epoch 14/20\n",
            "7/7 [==============================] - 0s 3ms/step - loss: 0.4990 - accuracy: 0.7734\n",
            "Epoch 15/20\n",
            "7/7 [==============================] - 0s 3ms/step - loss: 0.4885 - accuracy: 0.7833\n",
            "Epoch 16/20\n",
            "7/7 [==============================] - 0s 4ms/step - loss: 0.4772 - accuracy: 0.7833\n",
            "Epoch 17/20\n",
            "7/7 [==============================] - 0s 4ms/step - loss: 0.4673 - accuracy: 0.7882\n",
            "Epoch 18/20\n",
            "7/7 [==============================] - 0s 3ms/step - loss: 0.4565 - accuracy: 0.7980\n",
            "Epoch 19/20\n",
            "7/7 [==============================] - 0s 3ms/step - loss: 0.4464 - accuracy: 0.8177\n",
            "Epoch 20/20\n",
            "7/7 [==============================] - 0s 5ms/step - loss: 0.4364 - accuracy: 0.8227\n"
          ]
        }
      ]
    },
    {
      "cell_type": "code",
      "source": [
        "perda_teste, acuracia_teste = modelo.evaluate(X_test_scaled, y_test)\n",
        "print('Perda do teste:', perda_teste)\n",
        "print('Acurácia do teste:', acuracia_teste)"
      ],
      "metadata": {
        "colab": {
          "base_uri": "https://localhost:8080/"
        },
        "id": "ML_I1JFHhsHT",
        "outputId": "97bec934-331b-4eb8-f140-2f61e74473e5"
      },
      "execution_count": null,
      "outputs": [
        {
          "output_type": "stream",
          "name": "stdout",
          "text": [
            "4/4 [==============================] - 0s 4ms/step - loss: 0.3905 - accuracy: 0.8800\n",
            "Perda do teste: 0.39047136902809143\n",
            "Acurácia do teste: 0.8799999952316284\n"
          ]
        }
      ]
    },
    {
      "cell_type": "code",
      "source": [
        "plt.figure(figsize=(10, 5))\n",
        "plt.subplot(1, 2, 1)\n",
        "plt.plot(historico.history['accuracy'])\n",
        "plt.title('Acurácia por época')\n",
        "plt.xlabel('época')\n",
        "plt.ylabel('acurácia')\n",
        "plt.legend(['treino'])\n",
        "\n",
        "plt.subplot(1, 2, 2)\n",
        "plt.plot(historico.history['loss'])\n",
        "plt.title('Perda por época')\n",
        "plt.xlabel('época')\n",
        "plt.ylabel('perda')\n",
        "plt.legend(['treino'])"
      ],
      "metadata": {
        "colab": {
          "base_uri": "https://localhost:8080/",
          "height": 367
        },
        "id": "HwdiKsAshvhB",
        "outputId": "d032a1df-19f3-4f4e-d1be-ac2e8c6c0c82"
      },
      "execution_count": null,
      "outputs": [
        {
          "output_type": "execute_result",
          "data": {
            "text/plain": [
              "<matplotlib.legend.Legend at 0x7fe18323da50>"
            ]
          },
          "metadata": {},
          "execution_count": 50
        },
        {
          "output_type": "display_data",
          "data": {
            "text/plain": [
              "<Figure size 720x360 with 2 Axes>"
            ],
            "image/png": "[encoded data removed]"
          },
          "metadata": {
            "needs_background": "light"
          }
        }
      ]
    },
    {
      "cell_type": "markdown",
      "source": [
        "##muita variacao entre a acuracia de treino e de teste"
      ],
      "metadata": {
        "id": "9kVhDM0BmvbI"
      }
    },
    {
      "cell_type": "code",
      "source": [
        "modelo = keras.Sequential(name='modelo1')\n",
        "modelo.add(keras.layers.Input(13))\n",
        "modelo.add(keras.layers.Dense(13, activation='relu'))\n",
        "modelo.add(keras.layers.Dense(13, activation='relu'))\n",
        "modelo.add(keras.layers.Dense(1,activation='sigmoid'))\n",
        "\n",
        "modelo.compile(\n",
        "               optimizer=keras.optimizers.RMSprop(),\n",
        "               loss=keras.losses.binary_crossentropy,\n",
        "               metrics=['accuracy'])\n",
        "\n",
        "modelo.summary()\n",
        "\n",
        "historico = modelo.fit(X_train_scaled, y_train, epochs=20, validation_split=0.2)"
      ],
      "metadata": {
        "colab": {
          "base_uri": "https://localhost:8080/"
        },
        "id": "3VIsjyAPma-P",
        "outputId": "0207c8f6-d662-4535-b136-d106afe9f0e7"
      },
      "execution_count": null,
      "outputs": [
        {
          "output_type": "stream",
          "name": "stdout",
          "text": [
            "Model: \"modelo1\"\n",
            "_________________________________________________________________\n",
            " Layer (type)                Output Shape              Param #   \n",
            "=================================================================\n",
            " dense_14 (Dense)            (None, 13)                182       \n",
            "                                                                 \n",
            " dense_15 (Dense)            (None, 13)                182       \n",
            "                                                                 \n",
            " dense_16 (Dense)            (None, 1)                 14        \n",
            "                                                                 \n",
            "=================================================================\n",
            "Total params: 378\n",
            "Trainable params: 378\n",
            "Non-trainable params: 0\n",
            "_________________________________________________________________\n",
            "Epoch 1/20\n",
            "6/6 [==============================] - 1s 35ms/step - loss: 0.7357 - accuracy: 0.3642 - val_loss: 0.6913 - val_accuracy: 0.4634\n",
            "Epoch 2/20\n",
            "6/6 [==============================] - 0s 8ms/step - loss: 0.6869 - accuracy: 0.5062 - val_loss: 0.6628 - val_accuracy: 0.6585\n",
            "Epoch 3/20\n",
            "6/6 [==============================] - 0s 7ms/step - loss: 0.6600 - accuracy: 0.6111 - val_loss: 0.6427 - val_accuracy: 0.7317\n",
            "Epoch 4/20\n",
            "6/6 [==============================] - 0s 7ms/step - loss: 0.6401 - accuracy: 0.7037 - val_loss: 0.6220 - val_accuracy: 0.8049\n",
            "Epoch 5/20\n",
            "6/6 [==============================] - 0s 8ms/step - loss: 0.6207 - accuracy: 0.7469 - val_loss: 0.6043 - val_accuracy: 0.8293\n",
            "Epoch 6/20\n",
            "6/6 [==============================] - 0s 7ms/step - loss: 0.6042 - accuracy: 0.7778 - val_loss: 0.5859 - val_accuracy: 0.8537\n",
            "Epoch 7/20\n",
            "6/6 [==============================] - 0s 7ms/step - loss: 0.5863 - accuracy: 0.8148 - val_loss: 0.5673 - val_accuracy: 0.8537\n",
            "Epoch 8/20\n",
            "6/6 [==============================] - 0s 8ms/step - loss: 0.5678 - accuracy: 0.8210 - val_loss: 0.5519 - val_accuracy: 0.8293\n",
            "Epoch 9/20\n",
            "6/6 [==============================] - 0s 7ms/step - loss: 0.5530 - accuracy: 0.8148 - val_loss: 0.5375 - val_accuracy: 0.8293\n",
            "Epoch 10/20\n",
            "6/6 [==============================] - 0s 6ms/step - loss: 0.5383 - accuracy: 0.8272 - val_loss: 0.5208 - val_accuracy: 0.8049\n",
            "Epoch 11/20\n",
            "6/6 [==============================] - 0s 7ms/step - loss: 0.5217 - accuracy: 0.8333 - val_loss: 0.5067 - val_accuracy: 0.8049\n",
            "Epoch 12/20\n",
            "6/6 [==============================] - 0s 7ms/step - loss: 0.5077 - accuracy: 0.8395 - val_loss: 0.4910 - val_accuracy: 0.8293\n",
            "Epoch 13/20\n",
            "6/6 [==============================] - 0s 7ms/step - loss: 0.4933 - accuracy: 0.8580 - val_loss: 0.4816 - val_accuracy: 0.8049\n",
            "Epoch 14/20\n",
            "6/6 [==============================] - 0s 10ms/step - loss: 0.4845 - accuracy: 0.8580 - val_loss: 0.4686 - val_accuracy: 0.8293\n",
            "Epoch 15/20\n",
            "6/6 [==============================] - 0s 8ms/step - loss: 0.4726 - accuracy: 0.8580 - val_loss: 0.4549 - val_accuracy: 0.8049\n",
            "Epoch 16/20\n",
            "6/6 [==============================] - 0s 7ms/step - loss: 0.4602 - accuracy: 0.8457 - val_loss: 0.4419 - val_accuracy: 0.8049\n",
            "Epoch 17/20\n",
            "6/6 [==============================] - 0s 7ms/step - loss: 0.4488 - accuracy: 0.8395 - val_loss: 0.4299 - val_accuracy: 0.8049\n",
            "Epoch 18/20\n",
            "6/6 [==============================] - 0s 8ms/step - loss: 0.4378 - accuracy: 0.8457 - val_loss: 0.4203 - val_accuracy: 0.8049\n",
            "Epoch 19/20\n",
            "6/6 [==============================] - 0s 9ms/step - loss: 0.4305 - accuracy: 0.8395 - val_loss: 0.4125 - val_accuracy: 0.8537\n",
            "Epoch 20/20\n",
            "6/6 [==============================] - 0s 8ms/step - loss: 0.4228 - accuracy: 0.8457 - val_loss: 0.4007 - val_accuracy: 0.8537\n"
          ]
        }
      ]
    },
    {
      "cell_type": "code",
      "source": [
        "perda_teste, acuracia_teste = modelo.evaluate(X_test_scaled, y_test)\n",
        "print('Perda do teste:', perda_teste)\n",
        "print('Acurácia do teste:', acuracia_teste)"
      ],
      "metadata": {
        "colab": {
          "base_uri": "https://localhost:8080/"
        },
        "id": "-2RkojXU7vYX",
        "outputId": "361af221-8f0d-4c39-bbeb-3ad801bb8443"
      },
      "execution_count": null,
      "outputs": [
        {
          "output_type": "stream",
          "name": "stdout",
          "text": [
            "4/4 [==============================] - 0s 3ms/step - loss: 0.4276 - accuracy: 0.8100\n",
            "Perda do teste: 0.42756107449531555\n",
            "Acurácia do teste: 0.8100000023841858\n"
          ]
        }
      ]
    },
    {
      "cell_type": "code",
      "source": [
        "plt.figure(figsize=(10, 5))\n",
        "plt.subplot(1, 2, 1)\n",
        "plt.plot(historico.history['accuracy'])\n",
        "plt.plot(historico.history['val_accuracy'])\n",
        "plt.title('Acurácia por época')\n",
        "plt.xlabel('época')\n",
        "plt.ylabel('acurácia')\n",
        "plt.legend(['treino', 'validação'])\n",
        "\n",
        "plt.subplot(1, 2, 2)\n",
        "plt.plot(historico.history['loss'])\n",
        "plt.plot(historico.history['val_loss'])\n",
        "plt.title('Perda por época')\n",
        "plt.xlabel('época')\n",
        "plt.ylabel('perda')\n",
        "plt.legend(['treino', 'validação'])"
      ],
      "metadata": {
        "colab": {
          "base_uri": "https://localhost:8080/",
          "height": 367
        },
        "id": "cNxZeG_OnC7i",
        "outputId": "f1bcad76-457b-4cd3-afcb-43d4c43b3a3c"
      },
      "execution_count": null,
      "outputs": [
        {
          "output_type": "execute_result",
          "data": {
            "text/plain": [
              "<matplotlib.legend.Legend at 0x7fe182f91a10>"
            ]
          },
          "metadata": {},
          "execution_count": 53
        },
        {
          "output_type": "display_data",
          "data": {
            "text/plain": [
              "<Figure size 720x360 with 2 Axes>"
            ],
            "image/png": "[encoded data removed]"
          },
          "metadata": {
            "needs_background": "light"
          }
        }
      ]
    },
    {
      "cell_type": "markdown",
      "source": [
        "#experimentos com overfitting"
      ],
      "metadata": {
        "id": "J_CFzOiu8kkf"
      }
    },
    {
      "cell_type": "code",
      "source": [
        "modelo = keras.Sequential(name='modelo1')\n",
        "modelo.add(keras.layers.Input(13))\n",
        "modelo.add(keras.layers.Dense(130, activation='relu'))\n",
        "modelo.add(keras.layers.Dense(130, activation='relu'))\n",
        "modelo.add(keras.layers.Dense(1,activation='sigmoid'))\n",
        "\n",
        "modelo.compile(\n",
        "\n",
        "               optimizer=keras.optimizers.RMSprop(),\n",
        "\n",
        "               loss=keras.losses.binary_crossentropy,\n",
        "               metrics=['accuracy'])\n",
        "\n",
        "\n",
        "modelo.summary()\n",
        "\n",
        "historico = modelo.fit(X_train_scaled, y_train, epochs=20, validation_split=0.2, batch_size=32)\n",
        "\n",
        "#from keras.callbacks import EarlyStopping\n",
        "#early_stopping = EarlyStopping(monitor='val_loss', patience=10, mode='auto')\n",
        "#early_stopping = EarlyStopping(monitor='val_accuracy', patience=5, mode='auto')\n",
        "\n",
        "#historico = modelo.fit(X_train_scaled, y_train, epochs=100, validation_split=0.2, batch_size=8, callbacks = [early_stopping])"
      ],
      "metadata": {
        "colab": {
          "base_uri": "https://localhost:8080/"
        },
        "id": "a0sGH_cd8kYB",
        "outputId": "10b361f8-d35d-4e86-ab98-063ef33e097f"
      },
      "execution_count": null,
      "outputs": [
        {
          "output_type": "stream",
          "name": "stdout",
          "text": [
            "Model: \"modelo1\"\n",
            "_________________________________________________________________\n",
            " Layer (type)                Output Shape              Param #   \n",
            "=================================================================\n",
            " dense_17 (Dense)            (None, 130)               1820      \n",
            "                                                                 \n",
            " dense_18 (Dense)            (None, 130)               17030     \n",
            "                                                                 \n",
            " dense_19 (Dense)            (None, 1)                 131       \n",
            "                                                                 \n",
            "=================================================================\n",
            "Total params: 18,981\n",
            "Trainable params: 18,981\n",
            "Non-trainable params: 0\n",
            "_________________________________________________________________\n",
            "Epoch 1/20\n",
            "6/6 [==============================] - 1s 34ms/step - loss: 0.6120 - accuracy: 0.6790 - val_loss: 0.5055 - val_accuracy: 0.7561\n",
            "Epoch 2/20\n",
            "6/6 [==============================] - 0s 7ms/step - loss: 0.4564 - accuracy: 0.7778 - val_loss: 0.4254 - val_accuracy: 0.8780\n",
            "Epoch 3/20\n",
            "6/6 [==============================] - 0s 7ms/step - loss: 0.3968 - accuracy: 0.8395 - val_loss: 0.3882 - val_accuracy: 0.9024\n",
            "Epoch 4/20\n",
            "6/6 [==============================] - 0s 7ms/step - loss: 0.3617 - accuracy: 0.8395 - val_loss: 0.3656 - val_accuracy: 0.8293\n",
            "Epoch 5/20\n",
            "6/6 [==============================] - 0s 7ms/step - loss: 0.3316 - accuracy: 0.8457 - val_loss: 0.3492 - val_accuracy: 0.8537\n",
            "Epoch 6/20\n",
            "6/6 [==============================] - 0s 7ms/step - loss: 0.3175 - accuracy: 0.8457 - val_loss: 0.3456 - val_accuracy: 0.8537\n",
            "Epoch 7/20\n",
            "6/6 [==============================] - 0s 8ms/step - loss: 0.2960 - accuracy: 0.8765 - val_loss: 0.3574 - val_accuracy: 0.7805\n",
            "Epoch 8/20\n",
            "6/6 [==============================] - 0s 7ms/step - loss: 0.2851 - accuracy: 0.8765 - val_loss: 0.3410 - val_accuracy: 0.8780\n",
            "Epoch 9/20\n",
            "6/6 [==============================] - 0s 7ms/step - loss: 0.2689 - accuracy: 0.8951 - val_loss: 0.3469 - val_accuracy: 0.8293\n",
            "Epoch 10/20\n",
            "6/6 [==============================] - 0s 7ms/step - loss: 0.2574 - accuracy: 0.8827 - val_loss: 0.3365 - val_accuracy: 0.8293\n",
            "Epoch 11/20\n",
            "6/6 [==============================] - 0s 7ms/step - loss: 0.2452 - accuracy: 0.8827 - val_loss: 0.3542 - val_accuracy: 0.8293\n",
            "Epoch 12/20\n",
            "6/6 [==============================] - 0s 7ms/step - loss: 0.2391 - accuracy: 0.9012 - val_loss: 0.3353 - val_accuracy: 0.8780\n",
            "Epoch 13/20\n",
            "6/6 [==============================] - 0s 9ms/step - loss: 0.2276 - accuracy: 0.9074 - val_loss: 0.3318 - val_accuracy: 0.8537\n",
            "Epoch 14/20\n",
            "6/6 [==============================] - 0s 7ms/step - loss: 0.2184 - accuracy: 0.9074 - val_loss: 0.3413 - val_accuracy: 0.8537\n",
            "Epoch 15/20\n",
            "6/6 [==============================] - 0s 9ms/step - loss: 0.2093 - accuracy: 0.9074 - val_loss: 0.3423 - val_accuracy: 0.8537\n",
            "Epoch 16/20\n",
            "6/6 [==============================] - 0s 7ms/step - loss: 0.1997 - accuracy: 0.9074 - val_loss: 0.3407 - val_accuracy: 0.8537\n",
            "Epoch 17/20\n",
            "6/6 [==============================] - 0s 7ms/step - loss: 0.1920 - accuracy: 0.9074 - val_loss: 0.3431 - val_accuracy: 0.8537\n",
            "Epoch 18/20\n",
            "6/6 [==============================] - 0s 7ms/step - loss: 0.1813 - accuracy: 0.9198 - val_loss: 0.3469 - val_accuracy: 0.8537\n",
            "Epoch 19/20\n",
            "6/6 [==============================] - 0s 7ms/step - loss: 0.1702 - accuracy: 0.9198 - val_loss: 0.3486 - val_accuracy: 0.8293\n",
            "Epoch 20/20\n",
            "6/6 [==============================] - 0s 7ms/step - loss: 0.1652 - accuracy: 0.9198 - val_loss: 0.3667 - val_accuracy: 0.8537\n"
          ]
        }
      ]
    },
    {
      "cell_type": "code",
      "source": [
        "perda_teste, acuracia_teste = modelo.evaluate(X_test_scaled, y_test)\n",
        "print('Perda do teste:', perda_teste)\n",
        "print('Acurácia do teste:', acuracia_teste)"
      ],
      "metadata": {
        "colab": {
          "base_uri": "https://localhost:8080/"
        },
        "id": "xjsmdso2_hQH",
        "outputId": "50d0d9f6-c85e-411e-c3eb-e5871a217f58"
      },
      "execution_count": null,
      "outputs": [
        {
          "output_type": "stream",
          "name": "stdout",
          "text": [
            "4/4 [==============================] - 0s 3ms/step - loss: 0.3808 - accuracy: 0.8400\n",
            "Perda do teste: 0.3807624876499176\n",
            "Acurácia do teste: 0.8399999737739563\n"
          ]
        }
      ]
    },
    {
      "cell_type": "code",
      "source": [
        "plt.figure(figsize=(10, 5))\n",
        "plt.subplot(1, 2, 1)\n",
        "plt.plot(historico.history['accuracy'])\n",
        "plt.plot(historico.history['val_accuracy'])\n",
        "plt.title('Acurácia por época')\n",
        "plt.xlabel('época')\n",
        "plt.ylabel('acurácia')\n",
        "plt.legend(['treino', 'validação'])\n",
        "\n",
        "plt.subplot(1, 2, 2)\n",
        "plt.plot(historico.history['loss'])\n",
        "plt.plot(historico.history['val_loss'])\n",
        "plt.title('Perda por época')\n",
        "plt.xlabel('época')\n",
        "plt.ylabel('perda')\n",
        "plt.legend(['treino', 'validação'])"
      ],
      "metadata": {
        "colab": {
          "base_uri": "https://localhost:8080/",
          "height": 367
        },
        "id": "Xk0J4NbP8t8P",
        "outputId": "20ebc253-48c0-4fc3-c6de-0ecf7286659e"
      },
      "execution_count": null,
      "outputs": [
        {
          "output_type": "execute_result",
          "data": {
            "text/plain": [
              "<matplotlib.legend.Legend at 0x7fe182ccd590>"
            ]
          },
          "metadata": {},
          "execution_count": 56
        },
        {
          "output_type": "display_data",
          "data": {
            "text/plain": [
              "<Figure size 720x360 with 2 Axes>"
            ],
            "image/png": "[encoded data removed]"
          },
          "metadata": {
            "needs_background": "light"
          }
        }
      ]
    },
    {
      "cell_type": "code",
      "source": [
        "modelo = keras.Sequential(name='modelo1')\n",
        "modelo.add(keras.layers.Input(13))\n",
        "modelo.add(keras.layers.Dense(260, activation='relu'))\n",
        "modelo.add(keras.layers.Dense(260, activation='relu'))\n",
        "modelo.add(keras.layers.Dense(1,activation='sigmoid'))\n",
        "\n",
        "modelo.compile(\n",
        "               #optimizer='adam', \n",
        "               optimizer=keras.optimizers.RMSprop(),\n",
        "               #optimizer=keras.optimizers.Adam(),\n",
        "               #loss='sparse_categorical_crossentropy',\n",
        "               #loss='categorical_crossentropy',\n",
        "               loss=keras.losses.binary_crossentropy,\n",
        "               metrics=['accuracy'])\n",
        "               #metrics=[keras.metrics.binary_accuracy])\n",
        "               #metrics=[keras.metrics.AUC(from_logits=True)])\n",
        "\n",
        "modelo.summary()\n",
        "\n",
        "historico = modelo.fit(X_train_scaled, y_train, epochs=20, validation_split=0.2, batch_size=32)\n",
        "\n",
        "#from keras.callbacks import EarlyStopping\n",
        "#early_stopping = EarlyStopping(monitor='val_loss', patience=10, mode='auto')\n",
        "#early_stopping = EarlyStopping(monitor='val_accuracy', patience=5, mode='auto')\n",
        "\n",
        "#historico = modelo.fit(X_train_scaled, y_train, epochs=100, validation_split=0.2, batch_size=8, callbacks = [early_stopping])"
      ],
      "metadata": {
        "colab": {
          "base_uri": "https://localhost:8080/"
        },
        "id": "GhrrUAucAvob",
        "outputId": "a1763f19-1e7c-4dc7-d328-e43d9809bc20"
      },
      "execution_count": null,
      "outputs": [
        {
          "output_type": "stream",
          "name": "stdout",
          "text": [
            "Model: \"modelo1\"\n",
            "_________________________________________________________________\n",
            " Layer (type)                Output Shape              Param #   \n",
            "=================================================================\n",
            " dense_20 (Dense)            (None, 260)               3640      \n",
            "                                                                 \n",
            " dense_21 (Dense)            (None, 260)               67860     \n",
            "                                                                 \n",
            " dense_22 (Dense)            (None, 1)                 261       \n",
            "                                                                 \n",
            "=================================================================\n",
            "Total params: 71,761\n",
            "Trainable params: 71,761\n",
            "Non-trainable params: 0\n",
            "_________________________________________________________________\n",
            "Epoch 1/20\n",
            "6/6 [==============================] - 1s 34ms/step - loss: 0.5337 - accuracy: 0.7284 - val_loss: 0.4085 - val_accuracy: 0.9268\n",
            "Epoch 2/20\n",
            "6/6 [==============================] - 0s 8ms/step - loss: 0.3695 - accuracy: 0.8457 - val_loss: 0.3487 - val_accuracy: 0.9268\n",
            "Epoch 3/20\n",
            "6/6 [==============================] - 0s 8ms/step - loss: 0.3266 - accuracy: 0.8827 - val_loss: 0.3353 - val_accuracy: 0.8537\n",
            "Epoch 4/20\n",
            "6/6 [==============================] - 0s 8ms/step - loss: 0.2906 - accuracy: 0.8642 - val_loss: 0.3143 - val_accuracy: 0.8537\n",
            "Epoch 5/20\n",
            "6/6 [==============================] - 0s 8ms/step - loss: 0.2688 - accuracy: 0.8889 - val_loss: 0.3456 - val_accuracy: 0.8293\n",
            "Epoch 6/20\n",
            "6/6 [==============================] - 0s 8ms/step - loss: 0.2545 - accuracy: 0.8642 - val_loss: 0.3374 - val_accuracy: 0.8780\n",
            "Epoch 7/20\n",
            "6/6 [==============================] - 0s 8ms/step - loss: 0.2378 - accuracy: 0.8889 - val_loss: 0.3389 - val_accuracy: 0.8537\n",
            "Epoch 8/20\n",
            "6/6 [==============================] - 0s 10ms/step - loss: 0.2246 - accuracy: 0.8951 - val_loss: 0.3280 - val_accuracy: 0.8780\n",
            "Epoch 9/20\n",
            "6/6 [==============================] - 0s 9ms/step - loss: 0.2190 - accuracy: 0.8951 - val_loss: 0.3366 - val_accuracy: 0.8293\n",
            "Epoch 10/20\n",
            "6/6 [==============================] - 0s 9ms/step - loss: 0.1987 - accuracy: 0.9198 - val_loss: 0.3581 - val_accuracy: 0.8293\n",
            "Epoch 11/20\n",
            "6/6 [==============================] - 0s 8ms/step - loss: 0.1831 - accuracy: 0.9321 - val_loss: 0.3531 - val_accuracy: 0.8537\n",
            "Epoch 12/20\n",
            "6/6 [==============================] - 0s 8ms/step - loss: 0.1712 - accuracy: 0.9259 - val_loss: 0.3758 - val_accuracy: 0.8293\n",
            "Epoch 13/20\n",
            "6/6 [==============================] - 0s 8ms/step - loss: 0.1607 - accuracy: 0.9444 - val_loss: 0.3853 - val_accuracy: 0.8293\n",
            "Epoch 14/20\n",
            "6/6 [==============================] - 0s 8ms/step - loss: 0.1415 - accuracy: 0.9506 - val_loss: 0.3700 - val_accuracy: 0.8293\n",
            "Epoch 15/20\n",
            "6/6 [==============================] - 0s 12ms/step - loss: 0.1392 - accuracy: 0.9383 - val_loss: 0.4128 - val_accuracy: 0.8293\n",
            "Epoch 16/20\n",
            "6/6 [==============================] - 0s 8ms/step - loss: 0.1264 - accuracy: 0.9753 - val_loss: 0.4093 - val_accuracy: 0.8293\n",
            "Epoch 17/20\n",
            "6/6 [==============================] - 0s 8ms/step - loss: 0.1127 - accuracy: 0.9691 - val_loss: 0.4529 - val_accuracy: 0.8293\n",
            "Epoch 18/20\n",
            "6/6 [==============================] - 0s 8ms/step - loss: 0.1127 - accuracy: 0.9691 - val_loss: 0.4506 - val_accuracy: 0.8293\n",
            "Epoch 19/20\n",
            "6/6 [==============================] - 0s 8ms/step - loss: 0.0960 - accuracy: 0.9753 - val_loss: 0.4811 - val_accuracy: 0.8293\n",
            "Epoch 20/20\n",
            "6/6 [==============================] - 0s 8ms/step - loss: 0.0842 - accuracy: 0.9877 - val_loss: 0.4894 - val_accuracy: 0.8293\n"
          ]
        }
      ]
    },
    {
      "cell_type": "code",
      "source": [
        "perda_teste, acuracia_teste = modelo.evaluate(X_test_scaled, y_test)\n",
        "print('Perda do teste:', perda_teste)\n",
        "print('Acurácia do teste:', acuracia_teste)"
      ],
      "metadata": {
        "colab": {
          "base_uri": "https://localhost:8080/"
        },
        "id": "Z0G5c46RA362",
        "outputId": "a51adcb4-c6ef-47f3-8eec-f455e1f2ba48"
      },
      "execution_count": null,
      "outputs": [
        {
          "output_type": "stream",
          "name": "stdout",
          "text": [
            "4/4 [==============================] - 0s 3ms/step - loss: 0.5034 - accuracy: 0.8300\n",
            "Perda do teste: 0.5034351348876953\n",
            "Acurácia do teste: 0.8299999833106995\n"
          ]
        }
      ]
    },
    {
      "cell_type": "code",
      "source": [
        "plt.figure(figsize=(10, 5))\n",
        "plt.subplot(1, 2, 1)\n",
        "plt.plot(historico.history['accuracy'])\n",
        "plt.plot(historico.history['val_accuracy'])\n",
        "plt.title('Acurácia por época')\n",
        "plt.xlabel('época')\n",
        "plt.ylabel('acurácia')\n",
        "plt.legend(['treino', 'validação'])\n",
        "\n",
        "plt.subplot(1, 2, 2)\n",
        "plt.plot(historico.history['loss'])\n",
        "plt.plot(historico.history['val_loss'])\n",
        "plt.title('Perda por época')\n",
        "plt.xlabel('época')\n",
        "plt.ylabel('perda')\n",
        "plt.legend(['treino', 'validação'])"
      ],
      "metadata": {
        "colab": {
          "base_uri": "https://localhost:8080/",
          "height": 367
        },
        "id": "-_ReWVuqA0CS",
        "outputId": "f2814e5b-dcd6-4ed2-ac06-2e51f881dcac"
      },
      "execution_count": null,
      "outputs": [
        {
          "output_type": "execute_result",
          "data": {
            "text/plain": [
              "<matplotlib.legend.Legend at 0x7fe1801e6b10>"
            ]
          },
          "metadata": {},
          "execution_count": 59
        },
        {
          "output_type": "display_data",
          "data": {
            "text/plain": [
              "<Figure size 720x360 with 2 Axes>"
            ],
            "image/png": "[encoded data removed]"
          },
          "metadata": {
            "needs_background": "light"
          }
        }
      ]
    },
    {
      "cell_type": "code",
      "source": [
        "modelo = keras.Sequential(name='modelo1')\n",
        "modelo.add(keras.layers.Input(13))\n",
        "modelo.add(keras.layers.Dense(65, activation='relu'))\n",
        "modelo.add(keras.layers.Dense(65, activation='relu'))\n",
        "modelo.add(keras.layers.Dense(1,activation='sigmoid'))\n",
        "\n",
        "modelo.compile(\n",
        "               optimizer=keras.optimizers.RMSprop(),\n",
        "               loss=keras.losses.binary_crossentropy,\n",
        "               metrics=['accuracy'])\n",
        "\n",
        "modelo.summary()\n",
        "\n",
        "historico = modelo.fit(X_train_scaled, y_train, epochs=20, validation_split=0.2, batch_size=32)"
      ],
      "metadata": {
        "colab": {
          "base_uri": "https://localhost:8080/"
        },
        "id": "vHGbHlpGwzj5",
        "outputId": "08a14916-02ab-4cda-d1c6-9124aa31099b"
      },
      "execution_count": null,
      "outputs": [
        {
          "output_type": "stream",
          "name": "stdout",
          "text": [
            "Model: \"modelo1\"\n",
            "_________________________________________________________________\n",
            " Layer (type)                Output Shape              Param #   \n",
            "=================================================================\n",
            " dense_23 (Dense)            (None, 65)                910       \n",
            "                                                                 \n",
            " dense_24 (Dense)            (None, 65)                4290      \n",
            "                                                                 \n",
            " dense_25 (Dense)            (None, 1)                 66        \n",
            "                                                                 \n",
            "=================================================================\n",
            "Total params: 5,266\n",
            "Trainable params: 5,266\n",
            "Non-trainable params: 0\n",
            "_________________________________________________________________\n",
            "Epoch 1/20\n",
            "6/6 [==============================] - 1s 34ms/step - loss: 0.6226 - accuracy: 0.6358 - val_loss: 0.5536 - val_accuracy: 0.7805\n",
            "Epoch 2/20\n",
            "6/6 [==============================] - 0s 7ms/step - loss: 0.5056 - accuracy: 0.7840 - val_loss: 0.5038 - val_accuracy: 0.8049\n",
            "Epoch 3/20\n",
            "6/6 [==============================] - 0s 9ms/step - loss: 0.4619 - accuracy: 0.8210 - val_loss: 0.4763 - val_accuracy: 0.8293\n",
            "Epoch 4/20\n",
            "6/6 [==============================] - 0s 6ms/step - loss: 0.4303 - accuracy: 0.8272 - val_loss: 0.4561 - val_accuracy: 0.8049\n",
            "Epoch 5/20\n",
            "6/6 [==============================] - 0s 7ms/step - loss: 0.4003 - accuracy: 0.8333 - val_loss: 0.4471 - val_accuracy: 0.8049\n",
            "Epoch 6/20\n",
            "6/6 [==============================] - 0s 8ms/step - loss: 0.3824 - accuracy: 0.8333 - val_loss: 0.4349 - val_accuracy: 0.8049\n",
            "Epoch 7/20\n",
            "6/6 [==============================] - 0s 8ms/step - loss: 0.3647 - accuracy: 0.8333 - val_loss: 0.4258 - val_accuracy: 0.7805\n",
            "Epoch 8/20\n",
            "6/6 [==============================] - 0s 7ms/step - loss: 0.3472 - accuracy: 0.8457 - val_loss: 0.4141 - val_accuracy: 0.7805\n",
            "Epoch 9/20\n",
            "6/6 [==============================] - 0s 12ms/step - loss: 0.3345 - accuracy: 0.8580 - val_loss: 0.4063 - val_accuracy: 0.7805\n",
            "Epoch 10/20\n",
            "6/6 [==============================] - 0s 8ms/step - loss: 0.3255 - accuracy: 0.8395 - val_loss: 0.3859 - val_accuracy: 0.8293\n",
            "Epoch 11/20\n",
            "6/6 [==============================] - 0s 9ms/step - loss: 0.3077 - accuracy: 0.8580 - val_loss: 0.3769 - val_accuracy: 0.8293\n",
            "Epoch 12/20\n",
            "6/6 [==============================] - 0s 7ms/step - loss: 0.2964 - accuracy: 0.8765 - val_loss: 0.3689 - val_accuracy: 0.8293\n",
            "Epoch 13/20\n",
            "6/6 [==============================] - 0s 7ms/step - loss: 0.2896 - accuracy: 0.8889 - val_loss: 0.3744 - val_accuracy: 0.8293\n",
            "Epoch 14/20\n",
            "6/6 [==============================] - 0s 7ms/step - loss: 0.2778 - accuracy: 0.8951 - val_loss: 0.3824 - val_accuracy: 0.8293\n",
            "Epoch 15/20\n",
            "6/6 [==============================] - 0s 8ms/step - loss: 0.2692 - accuracy: 0.8951 - val_loss: 0.3619 - val_accuracy: 0.8049\n",
            "Epoch 16/20\n",
            "6/6 [==============================] - 0s 7ms/step - loss: 0.2612 - accuracy: 0.8951 - val_loss: 0.3641 - val_accuracy: 0.8049\n",
            "Epoch 17/20\n",
            "6/6 [==============================] - 0s 9ms/step - loss: 0.2533 - accuracy: 0.9012 - val_loss: 0.3794 - val_accuracy: 0.8049\n",
            "Epoch 18/20\n",
            "6/6 [==============================] - 0s 7ms/step - loss: 0.2451 - accuracy: 0.8951 - val_loss: 0.4015 - val_accuracy: 0.8049\n",
            "Epoch 19/20\n",
            "6/6 [==============================] - 0s 7ms/step - loss: 0.2415 - accuracy: 0.8951 - val_loss: 0.3943 - val_accuracy: 0.8049\n",
            "Epoch 20/20\n",
            "6/6 [==============================] - 0s 7ms/step - loss: 0.2335 - accuracy: 0.9074 - val_loss: 0.3862 - val_accuracy: 0.8049\n"
          ]
        }
      ]
    },
    {
      "cell_type": "code",
      "source": [
        "perda_teste, acuracia_teste = modelo.evaluate(X_test_scaled, y_test)\n",
        "print('Perda do teste:', perda_teste)\n",
        "print('Acurácia do teste:', acuracia_teste)"
      ],
      "metadata": {
        "colab": {
          "base_uri": "https://localhost:8080/"
        },
        "id": "tZ4c0diK8mN3",
        "outputId": "c3627fff-cb52-4af5-dc28-025c7c5424ea"
      },
      "execution_count": null,
      "outputs": [
        {
          "output_type": "stream",
          "name": "stdout",
          "text": [
            "4/4 [==============================] - 0s 3ms/step - loss: 0.3313 - accuracy: 0.8500\n",
            "Perda do teste: 0.3312731087207794\n",
            "Acurácia do teste: 0.8500000238418579\n"
          ]
        }
      ]
    },
    {
      "cell_type": "code",
      "source": [
        "plt.figure(figsize=(10, 5))\n",
        "plt.subplot(1, 2, 1)\n",
        "plt.plot(historico.history['accuracy'])\n",
        "plt.plot(historico.history['val_accuracy'])\n",
        "plt.title('Acurácia por época')\n",
        "plt.xlabel('época')\n",
        "plt.ylabel('acurácia')\n",
        "plt.legend(['treino', 'validação'])\n",
        "\n",
        "plt.subplot(1, 2, 2)\n",
        "plt.plot(historico.history['loss'])\n",
        "plt.plot(historico.history['val_loss'])\n",
        "plt.title('Perda por época')\n",
        "plt.xlabel('época')\n",
        "plt.ylabel('perda')\n",
        "plt.legend(['treino', 'validação'])"
      ],
      "metadata": {
        "colab": {
          "base_uri": "https://localhost:8080/",
          "height": 367
        },
        "id": "LmSzHWwaw6H0",
        "outputId": "29611e70-6e10-4c80-ae38-ed6ab0b31fbe"
      },
      "execution_count": null,
      "outputs": [
        {
          "output_type": "execute_result",
          "data": {
            "text/plain": [
              "<matplotlib.legend.Legend at 0x7fe189ed4150>"
            ]
          },
          "metadata": {},
          "execution_count": 62
        },
        {
          "output_type": "display_data",
          "data": {
            "text/plain": [
              "<Figure size 720x360 with 2 Axes>"
            ],
            "image/png": "[encoded data removed]"
          },
          "metadata": {
            "needs_background": "light"
          }
        }
      ]
    },
    {
      "cell_type": "markdown",
      "source": [
        "#Avaliando modelos de Machine Learning"
      ],
      "metadata": {
        "id": "UQ-iYpnsdyOa"
      }
    },
    {
      "cell_type": "code",
      "source": [
        "y_matriz=np.array([y_train]).T\n",
        "y_matriz.shape"
      ],
      "metadata": {
        "colab": {
          "base_uri": "https://localhost:8080/"
        },
        "id": "fjsGik4MDwlw",
        "outputId": "30ef5c11-e932-464d-83f1-58f6373f7128"
      },
      "execution_count": null,
      "outputs": [
        {
          "output_type": "execute_result",
          "data": {
            "text/plain": [
              "(203, 1)"
            ]
          },
          "metadata": {},
          "execution_count": 86
        }
      ]
    },
    {
      "cell_type": "code",
      "source": [
        "Xy= np.concatenate(\n",
        "      (X_train_scaled, y_matriz),\n",
        "      axis=1\n",
        "  )\n",
        "Xy.shape"
      ],
      "metadata": {
        "colab": {
          "base_uri": "https://localhost:8080/"
        },
        "id": "EKXz8okZEFsk",
        "outputId": "2468e0e3-219f-4fb5-d5f2-cd4932aa70ca"
      },
      "execution_count": null,
      "outputs": [
        {
          "output_type": "execute_result",
          "data": {
            "text/plain": [
              "(203, 14)"
            ]
          },
          "metadata": {},
          "execution_count": 87
        }
      ]
    },
    {
      "cell_type": "code",
      "source": [
        "k=3\n",
        "num_amostras_validacao = len(Xy)//k\n",
        "np.random.shuffle(Xy)\n",
        "\n",
        "notas_validacao = []\n",
        "\n",
        "for fold in range(k):\n",
        "  print(fold)\n",
        "  dados_validacao = Xy[num_amostras_validacao * fold : num_amostras_validacao * (fold+1)]\n",
        "  dados_treino = np.concatenate(\n",
        "      (Xy[:num_amostras_validacao * fold],\n",
        "      Xy[num_amostras_validacao * (fold+1) :])\n",
        "  )\n",
        "  modelo = keras.Sequential()\n",
        "  modelo.add(keras.layers.Input(13))\n",
        "  modelo.add(keras.layers.Dense(65, activation='relu'))\n",
        "  modelo.add(keras.layers.Dense(65, activation='relu'))\n",
        "  modelo.add(keras.layers.Dense(1,activation='sigmoid'))\n",
        "  modelo.compile(\n",
        "               optimizer=keras.optimizers.RMSprop(),\n",
        "               loss=keras.losses.binary_crossentropy,\n",
        "               metrics=['accuracy'])\n",
        "  modelo.fit(dados_treino[:,:13], dados_treino[:,13:], epochs=20)\n",
        "  nota_validacao = modelo.evaluate(dados_validacao[:,:13], dados_validacao[:,13:])\n",
        "  notas_validacao.append(nota_validacao[1])\n",
        "  \n",
        "nota_validacao=np.average(notas_validacao)\n",
        "\n",
        "\n"
      ],
      "metadata": {
        "colab": {
          "base_uri": "https://localhost:8080/"
        },
        "id": "r73Fgm_beMNG",
        "outputId": "e86d3818-94a8-4531-8317-c203aaf3b89d"
      },
      "execution_count": null,
      "outputs": [
        {
          "output_type": "stream",
          "name": "stdout",
          "text": [
            "0\n",
            "Epoch 1/20\n",
            "5/5 [==============================] - 1s 3ms/step - loss: 0.6147 - accuracy: 0.7206\n",
            "Epoch 2/20\n",
            "5/5 [==============================] - 0s 3ms/step - loss: 0.5179 - accuracy: 0.8162\n",
            "Epoch 3/20\n",
            "5/5 [==============================] - 0s 4ms/step - loss: 0.4628 - accuracy: 0.8235\n",
            "Epoch 4/20\n",
            "5/5 [==============================] - 0s 4ms/step - loss: 0.4226 - accuracy: 0.8456\n",
            "Epoch 5/20\n",
            "5/5 [==============================] - 0s 3ms/step - loss: 0.3967 - accuracy: 0.8603\n",
            "Epoch 6/20\n",
            "5/5 [==============================] - 0s 5ms/step - loss: 0.3710 - accuracy: 0.8750\n",
            "Epoch 7/20\n",
            "5/5 [==============================] - 0s 3ms/step - loss: 0.3491 - accuracy: 0.8676\n",
            "Epoch 8/20\n",
            "5/5 [==============================] - 0s 4ms/step - loss: 0.3322 - accuracy: 0.8824\n",
            "Epoch 9/20\n",
            "5/5 [==============================] - 0s 5ms/step - loss: 0.3171 - accuracy: 0.8676\n",
            "Epoch 10/20\n",
            "5/5 [==============================] - 0s 6ms/step - loss: 0.3036 - accuracy: 0.8750\n",
            "Epoch 11/20\n",
            "5/5 [==============================] - 0s 3ms/step - loss: 0.2893 - accuracy: 0.8824\n",
            "Epoch 12/20\n",
            "5/5 [==============================] - 0s 3ms/step - loss: 0.2786 - accuracy: 0.8750\n",
            "Epoch 13/20\n",
            "5/5 [==============================] - 0s 3ms/step - loss: 0.2679 - accuracy: 0.8971\n",
            "Epoch 14/20\n",
            "5/5 [==============================] - 0s 3ms/step - loss: 0.2588 - accuracy: 0.9044\n",
            "Epoch 15/20\n",
            "5/5 [==============================] - 0s 3ms/step - loss: 0.2505 - accuracy: 0.8971\n",
            "Epoch 16/20\n",
            "5/5 [==============================] - 0s 3ms/step - loss: 0.2426 - accuracy: 0.9044\n",
            "Epoch 17/20\n",
            "5/5 [==============================] - 0s 3ms/step - loss: 0.2351 - accuracy: 0.9118\n",
            "Epoch 18/20\n",
            "5/5 [==============================] - 0s 3ms/step - loss: 0.2287 - accuracy: 0.9118\n",
            "Epoch 19/20\n",
            "5/5 [==============================] - 0s 4ms/step - loss: 0.2184 - accuracy: 0.9191\n",
            "Epoch 20/20\n",
            "5/5 [==============================] - 0s 3ms/step - loss: 0.2120 - accuracy: 0.9265\n",
            "3/3 [==============================] - 0s 5ms/step - loss: 0.3609 - accuracy: 0.8657\n",
            "1\n",
            "Epoch 1/20\n",
            "5/5 [==============================] - 1s 3ms/step - loss: 0.6769 - accuracy: 0.5809\n",
            "Epoch 2/20\n",
            "5/5 [==============================] - 0s 3ms/step - loss: 0.5424 - accuracy: 0.7941\n",
            "Epoch 3/20\n",
            "5/5 [==============================] - 0s 3ms/step - loss: 0.4846 - accuracy: 0.7941\n",
            "Epoch 4/20\n",
            "5/5 [==============================] - 0s 3ms/step - loss: 0.4463 - accuracy: 0.8309\n",
            "Epoch 5/20\n",
            "5/5 [==============================] - 0s 5ms/step - loss: 0.4156 - accuracy: 0.8529\n",
            "Epoch 6/20\n",
            "5/5 [==============================] - 0s 3ms/step - loss: 0.3856 - accuracy: 0.8676\n",
            "Epoch 7/20\n",
            "5/5 [==============================] - 0s 3ms/step - loss: 0.3585 - accuracy: 0.8824\n",
            "Epoch 8/20\n",
            "5/5 [==============================] - 0s 3ms/step - loss: 0.3384 - accuracy: 0.8676\n",
            "Epoch 9/20\n",
            "5/5 [==============================] - 0s 3ms/step - loss: 0.3220 - accuracy: 0.8676\n",
            "Epoch 10/20\n",
            "5/5 [==============================] - 0s 5ms/step - loss: 0.3074 - accuracy: 0.8603\n",
            "Epoch 11/20\n",
            "5/5 [==============================] - 0s 3ms/step - loss: 0.2978 - accuracy: 0.8750\n",
            "Epoch 12/20\n",
            "5/5 [==============================] - 0s 3ms/step - loss: 0.2821 - accuracy: 0.8824\n",
            "Epoch 13/20\n",
            "5/5 [==============================] - 0s 3ms/step - loss: 0.2713 - accuracy: 0.8897\n",
            "Epoch 14/20\n",
            "5/5 [==============================] - 0s 4ms/step - loss: 0.2618 - accuracy: 0.8824\n",
            "Epoch 15/20\n",
            "5/5 [==============================] - 0s 3ms/step - loss: 0.2529 - accuracy: 0.8897\n",
            "Epoch 16/20\n",
            "5/5 [==============================] - 0s 3ms/step - loss: 0.2449 - accuracy: 0.8971\n",
            "Epoch 17/20\n",
            "5/5 [==============================] - 0s 5ms/step - loss: 0.2366 - accuracy: 0.9044\n",
            "Epoch 18/20\n",
            "5/5 [==============================] - 0s 3ms/step - loss: 0.2278 - accuracy: 0.9118\n",
            "Epoch 19/20\n",
            "5/5 [==============================] - 0s 3ms/step - loss: 0.2234 - accuracy: 0.9044\n",
            "Epoch 20/20\n",
            "5/5 [==============================] - 0s 3ms/step - loss: 0.2140 - accuracy: 0.9191\n",
            "3/3 [==============================] - 0s 4ms/step - loss: 0.3421 - accuracy: 0.8060\n",
            "2\n",
            "Epoch 1/20\n",
            "5/5 [==============================] - 1s 4ms/step - loss: 0.5717 - accuracy: 0.7353\n",
            "Epoch 2/20\n",
            "5/5 [==============================] - 0s 4ms/step - loss: 0.4757 - accuracy: 0.8162\n",
            "Epoch 3/20\n",
            "5/5 [==============================] - 0s 5ms/step - loss: 0.4220 - accuracy: 0.8456\n",
            "Epoch 4/20\n",
            "5/5 [==============================] - 0s 3ms/step - loss: 0.3881 - accuracy: 0.8456\n",
            "Epoch 5/20\n",
            "5/5 [==============================] - 0s 3ms/step - loss: 0.3578 - accuracy: 0.8456\n",
            "Epoch 6/20\n",
            "5/5 [==============================] - 0s 4ms/step - loss: 0.3351 - accuracy: 0.8603\n",
            "Epoch 7/20\n",
            "5/5 [==============================] - 0s 4ms/step - loss: 0.3207 - accuracy: 0.8897\n",
            "Epoch 8/20\n",
            "5/5 [==============================] - 0s 3ms/step - loss: 0.3032 - accuracy: 0.9044\n",
            "Epoch 9/20\n",
            "5/5 [==============================] - 0s 3ms/step - loss: 0.2909 - accuracy: 0.8971\n",
            "Epoch 10/20\n",
            "5/5 [==============================] - 0s 3ms/step - loss: 0.2791 - accuracy: 0.8971\n",
            "Epoch 11/20\n",
            "5/5 [==============================] - 0s 3ms/step - loss: 0.2676 - accuracy: 0.9044\n",
            "Epoch 12/20\n",
            "5/5 [==============================] - 0s 3ms/step - loss: 0.2579 - accuracy: 0.9044\n",
            "Epoch 13/20\n",
            "5/5 [==============================] - 0s 3ms/step - loss: 0.2517 - accuracy: 0.9265\n",
            "Epoch 14/20\n",
            "5/5 [==============================] - 0s 3ms/step - loss: 0.2404 - accuracy: 0.9265\n",
            "Epoch 15/20\n",
            "5/5 [==============================] - 0s 4ms/step - loss: 0.2328 - accuracy: 0.9338\n",
            "Epoch 16/20\n",
            "5/5 [==============================] - 0s 3ms/step - loss: 0.2260 - accuracy: 0.9338\n",
            "Epoch 17/20\n",
            "5/5 [==============================] - 0s 3ms/step - loss: 0.2175 - accuracy: 0.9338\n",
            "Epoch 18/20\n",
            "5/5 [==============================] - 0s 4ms/step - loss: 0.2128 - accuracy: 0.9338\n",
            "Epoch 19/20\n",
            "5/5 [==============================] - 0s 3ms/step - loss: 0.2084 - accuracy: 0.9338\n",
            "Epoch 20/20\n",
            "5/5 [==============================] - 0s 3ms/step - loss: 0.2021 - accuracy: 0.9338\n",
            "3/3 [==============================] - 0s 4ms/step - loss: 0.3562 - accuracy: 0.8358\n"
          ]
        }
      ]
    },
    {
      "cell_type": "code",
      "source": [
        "notas_validacao"
      ],
      "metadata": {
        "colab": {
          "base_uri": "https://localhost:8080/"
        },
        "id": "2VwN2q9N_bPN",
        "outputId": "c4ceb01d-8d5f-4c0a-8d93-3dc300b562cc"
      },
      "execution_count": null,
      "outputs": [
        {
          "output_type": "execute_result",
          "data": {
            "text/plain": [
              "[0.8656716346740723, 0.8059701323509216, 0.8358209133148193]"
            ]
          },
          "metadata": {},
          "execution_count": 66
        }
      ]
    },
    {
      "cell_type": "code",
      "source": [
        "nota_validacao"
      ],
      "metadata": {
        "colab": {
          "base_uri": "https://localhost:8080/"
        },
        "id": "H7U3zjW8H5Ob",
        "outputId": "bdc20bcc-0516-4c23-c440-deaf543ab63e"
      },
      "execution_count": null,
      "outputs": [
        {
          "output_type": "execute_result",
          "data": {
            "text/plain": [
              "0.8358208934466044"
            ]
          },
          "metadata": {},
          "execution_count": 67
        }
      ]
    },
    {
      "cell_type": "code",
      "source": [
        "modelo = keras.Sequential()\n",
        "modelo.add(keras.layers.Input(13))\n",
        "modelo.add(keras.layers.Dense(65, activation='relu'))\n",
        "modelo.add(keras.layers.Dense(65, activation='relu'))\n",
        "modelo.add(keras.layers.Dense(1,activation='sigmoid'))\n",
        "\n",
        "modelo.compile(\n",
        "               optimizer=keras.optimizers.RMSprop(),\n",
        "               loss=keras.losses.binary_crossentropy,\n",
        "               metrics=['accuracy'])\n",
        "\n",
        "modelo.summary()\n",
        "\n",
        "historico = modelo.fit(X_train_scaled, y_train, epochs=20, batch_size=32)"
      ],
      "metadata": {
        "id": "yw_NUlxQPHJI",
        "colab": {
          "base_uri": "https://localhost:8080/"
        },
        "outputId": "7792e153-c607-40d2-b2aa-e2565dab88a9"
      },
      "execution_count": null,
      "outputs": [
        {
          "output_type": "stream",
          "name": "stdout",
          "text": [
            "Model: \"sequential_6\"\n",
            "_________________________________________________________________\n",
            " Layer (type)                Output Shape              Param #   \n",
            "=================================================================\n",
            " dense_35 (Dense)            (None, 65)                910       \n",
            "                                                                 \n",
            " dense_36 (Dense)            (None, 65)                4290      \n",
            "                                                                 \n",
            " dense_37 (Dense)            (None, 1)                 66        \n",
            "                                                                 \n",
            "=================================================================\n",
            "Total params: 5,266\n",
            "Trainable params: 5,266\n",
            "Non-trainable params: 0\n",
            "_________________________________________________________________\n",
            "Epoch 1/20\n",
            "7/7 [==============================] - 1s 3ms/step - loss: 0.6337 - accuracy: 0.6552\n",
            "Epoch 2/20\n",
            "7/7 [==============================] - 0s 3ms/step - loss: 0.5104 - accuracy: 0.7635\n",
            "Epoch 3/20\n",
            "7/7 [==============================] - 0s 3ms/step - loss: 0.4495 - accuracy: 0.8079\n",
            "Epoch 4/20\n",
            "7/7 [==============================] - 0s 3ms/step - loss: 0.4115 - accuracy: 0.8128\n",
            "Epoch 5/20\n",
            "7/7 [==============================] - 0s 3ms/step - loss: 0.3794 - accuracy: 0.8522\n",
            "Epoch 6/20\n",
            "7/7 [==============================] - 0s 4ms/step - loss: 0.3543 - accuracy: 0.8522\n",
            "Epoch 7/20\n",
            "7/7 [==============================] - 0s 3ms/step - loss: 0.3353 - accuracy: 0.8571\n",
            "Epoch 8/20\n",
            "7/7 [==============================] - 0s 3ms/step - loss: 0.3210 - accuracy: 0.8571\n",
            "Epoch 9/20\n",
            "7/7 [==============================] - 0s 3ms/step - loss: 0.3073 - accuracy: 0.8719\n",
            "Epoch 10/20\n",
            "7/7 [==============================] - 0s 3ms/step - loss: 0.2964 - accuracy: 0.8571\n",
            "Epoch 11/20\n",
            "7/7 [==============================] - 0s 3ms/step - loss: 0.2860 - accuracy: 0.8571\n",
            "Epoch 12/20\n",
            "7/7 [==============================] - 0s 3ms/step - loss: 0.2772 - accuracy: 0.8670\n",
            "Epoch 13/20\n",
            "7/7 [==============================] - 0s 3ms/step - loss: 0.2703 - accuracy: 0.8719\n",
            "Epoch 14/20\n",
            "7/7 [==============================] - 0s 3ms/step - loss: 0.2611 - accuracy: 0.8818\n",
            "Epoch 15/20\n",
            "7/7 [==============================] - 0s 3ms/step - loss: 0.2546 - accuracy: 0.8768\n",
            "Epoch 16/20\n",
            "7/7 [==============================] - 0s 3ms/step - loss: 0.2479 - accuracy: 0.8966\n",
            "Epoch 17/20\n",
            "7/7 [==============================] - 0s 3ms/step - loss: 0.2412 - accuracy: 0.9015\n",
            "Epoch 18/20\n",
            "7/7 [==============================] - 0s 3ms/step - loss: 0.2367 - accuracy: 0.9015\n",
            "Epoch 19/20\n",
            "7/7 [==============================] - 0s 3ms/step - loss: 0.2287 - accuracy: 0.8966\n",
            "Epoch 20/20\n",
            "7/7 [==============================] - 0s 3ms/step - loss: 0.2232 - accuracy: 0.9015\n"
          ]
        }
      ]
    },
    {
      "cell_type": "code",
      "source": [
        "perda_teste, acuracia_teste = modelo.evaluate(X_test_scaled, y_test)\n",
        "print('Perda do teste:', perda_teste)\n",
        "print('Acurácia do teste:', acuracia_teste)"
      ],
      "metadata": {
        "id": "MdVLE_n9JT6X",
        "colab": {
          "base_uri": "https://localhost:8080/"
        },
        "outputId": "d9bb6293-ce4e-4de4-a845-c74067d3c899"
      },
      "execution_count": null,
      "outputs": [
        {
          "output_type": "stream",
          "name": "stdout",
          "text": [
            "WARNING:tensorflow:5 out of the last 54 calls to <function Model.make_test_function.<locals>.test_function at 0x7fe189fb0b00> triggered tf.function retracing. Tracing is expensive and the excessive number of tracings could be due to (1) creating @tf.function repeatedly in a loop, (2) passing tensors with different shapes, (3) passing Python objects instead of tensors. For (1), please define your @tf.function outside of the loop. For (2), @tf.function has experimental_relax_shapes=True option that relaxes argument shapes that can avoid unnecessary retracing. For (3), please refer to https://www.tensorflow.org/guide/function#controlling_retracing and https://www.tensorflow.org/api_docs/python/tf/function for  more details.\n",
            "4/4 [==============================] - 0s 5ms/step - loss: 0.3299 - accuracy: 0.8700\n",
            "Perda do teste: 0.3298897445201874\n",
            "Acurácia do teste: 0.8700000047683716\n"
          ]
        }
      ]
    },
    {
      "cell_type": "markdown",
      "source": [
        "# Adicionando regularição de pesos\n",
        "\n",
        "Mas queremos aumentar a generalização, mas ela para de aumentar quando o overfitting ocorre, então precisamos fazer o overfitting ocorrer mais tarde\n",
        "\n",
        "Uma forma de fazer isso atravez de regularização de pesos, o que faz com que os valores de pesos variem menos, o que faz com que segura o overfitting"
      ],
      "metadata": {
        "id": "gEDqb_3ET28E"
      }
    },
    {
      "cell_type": "code",
      "source": [
        "modelo = keras.Sequential()\n",
        "modelo.add(keras.layers.Input(13))\n",
        "modelo.add(keras.layers.Dense(65, activation='relu'))\n",
        "modelo.add(keras.layers.Dense(65, activation='relu'))\n",
        "modelo.add(keras.layers.Dense(1,activation='sigmoid'))\n",
        "\n",
        "modelo.compile(\n",
        "               optimizer=keras.optimizers.RMSprop(),\n",
        "               loss=keras.losses.binary_crossentropy,\n",
        "               metrics=['accuracy'])\n",
        "\n",
        "modelo.summary()\n",
        "\n",
        "historico = modelo.fit(X_train_scaled, y_train, epochs=20, batch_size=32,validation_split=0.2)"
      ],
      "metadata": {
        "colab": {
          "base_uri": "https://localhost:8080/"
        },
        "id": "_Jv8l16yT2lx",
        "outputId": "93bb44bf-2e8d-4aae-c0d0-3ada795c8560"
      },
      "execution_count": null,
      "outputs": [
        {
          "output_type": "stream",
          "name": "stdout",
          "text": [
            "Model: \"sequential_12\"\n",
            "_________________________________________________________________\n",
            " Layer (type)                Output Shape              Param #   \n",
            "=================================================================\n",
            " dense_50 (Dense)            (None, 65)                910       \n",
            "                                                                 \n",
            " dense_51 (Dense)            (None, 65)                4290      \n",
            "                                                                 \n",
            " dense_52 (Dense)            (None, 1)                 66        \n",
            "                                                                 \n",
            "=================================================================\n",
            "Total params: 5,266\n",
            "Trainable params: 5,266\n",
            "Non-trainable params: 0\n",
            "_________________________________________________________________\n",
            "Epoch 1/20\n",
            "6/6 [==============================] - 1s 34ms/step - loss: 0.5908 - accuracy: 0.7346 - val_loss: 0.5130 - val_accuracy: 0.7317\n",
            "Epoch 2/20\n",
            "6/6 [==============================] - 0s 8ms/step - loss: 0.4892 - accuracy: 0.7778 - val_loss: 0.4702 - val_accuracy: 0.7805\n",
            "Epoch 3/20\n",
            "6/6 [==============================] - 0s 7ms/step - loss: 0.4382 - accuracy: 0.7963 - val_loss: 0.4480 - val_accuracy: 0.7805\n",
            "Epoch 4/20\n",
            "6/6 [==============================] - 0s 7ms/step - loss: 0.4070 - accuracy: 0.8148 - val_loss: 0.4188 - val_accuracy: 0.7805\n",
            "Epoch 5/20\n",
            "6/6 [==============================] - 0s 9ms/step - loss: 0.3781 - accuracy: 0.8395 - val_loss: 0.4091 - val_accuracy: 0.7805\n",
            "Epoch 6/20\n",
            "6/6 [==============================] - 0s 8ms/step - loss: 0.3584 - accuracy: 0.8395 - val_loss: 0.3952 - val_accuracy: 0.8049\n",
            "Epoch 7/20\n",
            "6/6 [==============================] - 0s 7ms/step - loss: 0.3427 - accuracy: 0.8580 - val_loss: 0.3858 - val_accuracy: 0.8049\n",
            "Epoch 8/20\n",
            "6/6 [==============================] - 0s 7ms/step - loss: 0.3277 - accuracy: 0.8642 - val_loss: 0.3741 - val_accuracy: 0.8293\n",
            "Epoch 9/20\n",
            "6/6 [==============================] - 0s 7ms/step - loss: 0.3146 - accuracy: 0.8765 - val_loss: 0.3806 - val_accuracy: 0.8293\n",
            "Epoch 10/20\n",
            "6/6 [==============================] - 0s 7ms/step - loss: 0.3053 - accuracy: 0.8704 - val_loss: 0.3736 - val_accuracy: 0.8293\n",
            "Epoch 11/20\n",
            "6/6 [==============================] - 0s 7ms/step - loss: 0.2956 - accuracy: 0.8765 - val_loss: 0.3624 - val_accuracy: 0.8293\n",
            "Epoch 12/20\n",
            "6/6 [==============================] - 0s 7ms/step - loss: 0.2856 - accuracy: 0.8827 - val_loss: 0.3608 - val_accuracy: 0.8293\n",
            "Epoch 13/20\n",
            "6/6 [==============================] - 0s 6ms/step - loss: 0.2764 - accuracy: 0.8889 - val_loss: 0.3539 - val_accuracy: 0.8537\n",
            "Epoch 14/20\n",
            "6/6 [==============================] - 0s 8ms/step - loss: 0.2665 - accuracy: 0.8951 - val_loss: 0.3519 - val_accuracy: 0.8537\n",
            "Epoch 15/20\n",
            "6/6 [==============================] - 0s 7ms/step - loss: 0.2621 - accuracy: 0.9012 - val_loss: 0.3477 - val_accuracy: 0.8537\n",
            "Epoch 16/20\n",
            "6/6 [==============================] - 0s 7ms/step - loss: 0.2563 - accuracy: 0.9074 - val_loss: 0.3558 - val_accuracy: 0.8293\n",
            "Epoch 17/20\n",
            "6/6 [==============================] - 0s 7ms/step - loss: 0.2500 - accuracy: 0.9012 - val_loss: 0.3567 - val_accuracy: 0.8293\n",
            "Epoch 18/20\n",
            "6/6 [==============================] - 0s 7ms/step - loss: 0.2442 - accuracy: 0.8951 - val_loss: 0.3628 - val_accuracy: 0.8293\n",
            "Epoch 19/20\n",
            "6/6 [==============================] - 0s 7ms/step - loss: 0.2392 - accuracy: 0.9074 - val_loss: 0.3607 - val_accuracy: 0.8293\n",
            "Epoch 20/20\n",
            "6/6 [==============================] - 0s 8ms/step - loss: 0.2334 - accuracy: 0.9074 - val_loss: 0.3675 - val_accuracy: 0.8293\n"
          ]
        }
      ]
    },
    {
      "cell_type": "code",
      "source": [
        "plt.figure(figsize=(10, 5))\n",
        "plt.subplot(1, 2, 1)\n",
        "plt.plot(historico.history['accuracy'])\n",
        "plt.plot(historico.history['val_accuracy'])\n",
        "plt.title('Acurácia por época')\n",
        "plt.xlabel('época')\n",
        "plt.ylabel('acurácia')\n",
        "plt.legend(['treino', 'validação'])\n",
        "\n",
        "plt.subplot(1, 2, 2)\n",
        "plt.plot(historico.history['loss'])\n",
        "plt.plot(historico.history['val_loss'])\n",
        "plt.title('Perda por época')\n",
        "plt.xlabel('época')\n",
        "plt.ylabel('perda')\n",
        "plt.legend(['treino', 'validação'])"
      ],
      "metadata": {
        "colab": {
          "base_uri": "https://localhost:8080/",
          "height": 367
        },
        "id": "IX4atlawWiKJ",
        "outputId": "b994e75f-cce6-42cc-86e2-5bf38f82f6af"
      },
      "execution_count": null,
      "outputs": [
        {
          "output_type": "execute_result",
          "data": {
            "text/plain": [
              "<matplotlib.legend.Legend at 0x7fe18a0fc090>"
            ]
          },
          "metadata": {},
          "execution_count": 81
        },
        {
          "output_type": "display_data",
          "data": {
            "text/plain": [
              "<Figure size 720x360 with 2 Axes>"
            ],
            "image/png": "[encoded data removed]"
          },
          "metadata": {
            "needs_background": "light"
          }
        }
      ]
    },
    {
      "cell_type": "code",
      "source": [
        "perda_teste, acuracia_teste = modelo.evaluate(X_test_scaled, y_test)\n",
        "print('Perda do teste:', perda_teste)\n",
        "print('Acurácia do teste:', acuracia_teste)"
      ],
      "metadata": {
        "colab": {
          "base_uri": "https://localhost:8080/"
        },
        "id": "BQAEOR_iXTI_",
        "outputId": "7cf1fffc-7ac8-46ba-be18-427fb40384a4"
      },
      "execution_count": null,
      "outputs": [
        {
          "output_type": "stream",
          "name": "stdout",
          "text": [
            "4/4 [==============================] - 0s 3ms/step - loss: 0.3494 - accuracy: 0.8300\n",
            "Perda do teste: 0.3494495749473572\n",
            "Acurácia do teste: 0.8299999833106995\n"
          ]
        }
      ]
    },
    {
      "cell_type": "code",
      "source": [
        "from tensorflow.keras import regularizers\n",
        "\n",
        "modelo = keras.Sequential()\n",
        "modelo.add(keras.layers.Input(13))\n",
        "modelo.add(keras.layers.Dense(65, activation='relu', kernel_regularizer=regularizers.l2(0.002)))\n",
        "modelo.add(keras.layers.Dense(65, activation='relu', kernel_regularizer=regularizers.l2(0.002)))\n",
        "modelo.add(keras.layers.Dense(1,activation='sigmoid'))\n",
        "\n",
        "modelo.compile(\n",
        "               optimizer=keras.optimizers.RMSprop(),\n",
        "               loss=keras.losses.binary_crossentropy,\n",
        "               metrics=['accuracy'])\n",
        "\n",
        "modelo.summary()\n",
        "\n",
        "historico = modelo.fit(X_train_scaled, y_train, epochs=20, batch_size=32,validation_split=0.2)"
      ],
      "metadata": {
        "colab": {
          "base_uri": "https://localhost:8080/"
        },
        "id": "t-lNV0rQXDsP",
        "outputId": "77ddeafb-010b-459a-95ee-dadecdcd5548"
      },
      "execution_count": null,
      "outputs": [
        {
          "output_type": "stream",
          "name": "stdout",
          "text": [
            "Model: \"sequential_13\"\n",
            "_________________________________________________________________\n",
            " Layer (type)                Output Shape              Param #   \n",
            "=================================================================\n",
            " dense_53 (Dense)            (None, 65)                910       \n",
            "                                                                 \n",
            " dense_54 (Dense)            (None, 65)                4290      \n",
            "                                                                 \n",
            " dense_55 (Dense)            (None, 1)                 66        \n",
            "                                                                 \n",
            "=================================================================\n",
            "Total params: 5,266\n",
            "Trainable params: 5,266\n",
            "Non-trainable params: 0\n",
            "_________________________________________________________________\n",
            "Epoch 1/20\n",
            "6/6 [==============================] - 1s 37ms/step - loss: 0.8324 - accuracy: 0.6543 - val_loss: 0.7268 - val_accuracy: 0.7317\n",
            "Epoch 2/20\n",
            "6/6 [==============================] - 0s 8ms/step - loss: 0.7176 - accuracy: 0.7716 - val_loss: 0.6713 - val_accuracy: 0.7805\n",
            "Epoch 3/20\n",
            "6/6 [==============================] - 0s 10ms/step - loss: 0.6684 - accuracy: 0.7778 - val_loss: 0.6232 - val_accuracy: 0.8293\n",
            "Epoch 4/20\n",
            "6/6 [==============================] - 0s 23ms/step - loss: 0.6293 - accuracy: 0.7840 - val_loss: 0.5854 - val_accuracy: 0.8049\n",
            "Epoch 5/20\n",
            "6/6 [==============================] - 0s 26ms/step - loss: 0.5967 - accuracy: 0.7901 - val_loss: 0.5695 - val_accuracy: 0.7561\n",
            "Epoch 6/20\n",
            "6/6 [==============================] - 0s 20ms/step - loss: 0.5771 - accuracy: 0.7901 - val_loss: 0.5575 - val_accuracy: 0.7561\n",
            "Epoch 7/20\n",
            "6/6 [==============================] - 0s 15ms/step - loss: 0.5596 - accuracy: 0.8025 - val_loss: 0.5374 - val_accuracy: 0.8537\n",
            "Epoch 8/20\n",
            "6/6 [==============================] - 0s 12ms/step - loss: 0.5388 - accuracy: 0.8148 - val_loss: 0.5224 - val_accuracy: 0.8537\n",
            "Epoch 9/20\n",
            "6/6 [==============================] - 0s 11ms/step - loss: 0.5203 - accuracy: 0.8210 - val_loss: 0.5013 - val_accuracy: 0.8780\n",
            "Epoch 10/20\n",
            "6/6 [==============================] - 0s 14ms/step - loss: 0.5024 - accuracy: 0.8086 - val_loss: 0.4877 - val_accuracy: 0.8780\n",
            "Epoch 11/20\n",
            "6/6 [==============================] - 0s 14ms/step - loss: 0.4886 - accuracy: 0.8210 - val_loss: 0.4777 - val_accuracy: 0.8780\n",
            "Epoch 12/20\n",
            "6/6 [==============================] - 0s 14ms/step - loss: 0.4763 - accuracy: 0.8333 - val_loss: 0.4664 - val_accuracy: 0.8780\n",
            "Epoch 13/20\n",
            "6/6 [==============================] - 0s 15ms/step - loss: 0.4638 - accuracy: 0.8457 - val_loss: 0.4560 - val_accuracy: 0.8780\n",
            "Epoch 14/20\n",
            "6/6 [==============================] - 0s 16ms/step - loss: 0.4527 - accuracy: 0.8580 - val_loss: 0.4495 - val_accuracy: 0.8780\n",
            "Epoch 15/20\n",
            "6/6 [==============================] - 0s 14ms/step - loss: 0.4434 - accuracy: 0.8395 - val_loss: 0.4530 - val_accuracy: 0.8780\n",
            "Epoch 16/20\n",
            "6/6 [==============================] - 0s 16ms/step - loss: 0.4291 - accuracy: 0.8580 - val_loss: 0.4437 - val_accuracy: 0.8780\n",
            "Epoch 17/20\n",
            "6/6 [==============================] - 0s 15ms/step - loss: 0.4194 - accuracy: 0.8889 - val_loss: 0.4408 - val_accuracy: 0.8537\n",
            "Epoch 18/20\n",
            "6/6 [==============================] - 0s 15ms/step - loss: 0.4113 - accuracy: 0.8642 - val_loss: 0.4337 - val_accuracy: 0.8780\n",
            "Epoch 19/20\n",
            "6/6 [==============================] - 0s 16ms/step - loss: 0.4013 - accuracy: 0.8889 - val_loss: 0.4352 - val_accuracy: 0.8537\n",
            "Epoch 20/20\n",
            "6/6 [==============================] - 0s 10ms/step - loss: 0.3946 - accuracy: 0.8951 - val_loss: 0.4439 - val_accuracy: 0.8293\n"
          ]
        }
      ]
    },
    {
      "cell_type": "code",
      "source": [
        "plt.figure(figsize=(10, 5))\n",
        "plt.subplot(1, 2, 1)\n",
        "plt.plot(historico.history['accuracy'])\n",
        "plt.plot(historico.history['val_accuracy'])\n",
        "plt.title('Acurácia por época')\n",
        "plt.xlabel('época')\n",
        "plt.ylabel('acurácia')\n",
        "plt.legend(['treino', 'validação'])\n",
        "\n",
        "plt.subplot(1, 2, 2)\n",
        "plt.plot(historico.history['loss'])\n",
        "plt.plot(historico.history['val_loss'])\n",
        "plt.title('Perda por época')\n",
        "plt.xlabel('época')\n",
        "plt.ylabel('perda')\n",
        "plt.legend(['treino', 'validação'])"
      ],
      "metadata": {
        "colab": {
          "base_uri": "https://localhost:8080/",
          "height": 367
        },
        "id": "McHUepSIXETo",
        "outputId": "43d3ac2f-bb81-456b-c688-006a60566e3b"
      },
      "execution_count": null,
      "outputs": [
        {
          "output_type": "execute_result",
          "data": {
            "text/plain": [
              "<matplotlib.legend.Legend at 0x7fe189daa490>"
            ]
          },
          "metadata": {},
          "execution_count": 84
        },
        {
          "output_type": "display_data",
          "data": {
            "text/plain": [
              "<Figure size 720x360 with 2 Axes>"
            ],
            "image/png": "[encoded data removed]"
          },
          "metadata": {
            "needs_background": "light"
          }
        }
      ]
    },
    {
      "cell_type": "code",
      "source": [
        "perda_teste, acuracia_teste = modelo.evaluate(X_test_scaled, y_test)\n",
        "print('Perda do teste:', perda_teste)\n",
        "print('Acurácia do teste:', acuracia_teste)"
      ],
      "metadata": {
        "colab": {
          "base_uri": "https://localhost:8080/"
        },
        "id": "vy7qsiOTXJhX",
        "outputId": "011913b5-d6e8-413e-ff5e-a457a209ae27"
      },
      "execution_count": null,
      "outputs": [
        {
          "output_type": "stream",
          "name": "stdout",
          "text": [
            "4/4 [==============================] - 0s 4ms/step - loss: 0.4769 - accuracy: 0.8600\n",
            "Perda do teste: 0.4769057035446167\n",
            "Acurácia do teste: 0.8600000143051147\n"
          ]
        }
      ]
    },
    {
      "cell_type": "code",
      "source": [],
      "metadata": {
        "id": "kkOb50CoXWVn"
      },
      "execution_count": null,
      "outputs": []
    }
  ],
  "metadata": {
    "colab": {
      "provenance": [],
      "toc_visible": true
    },
    "kernelspec": {
      "display_name": "Python 3",
      "language": "python",
      "name": "python3"
    },
    "language_info": {
      "codemirror_mode": {
        "name": "ipython",
        "version": 3
      },
      "file_extension": ".py",
      "mimetype": "text/x-python",
      "name": "python",
      "nbconvert_exporter": "python",
      "pygments_lexer": "ipython3",
      "version": "3.7.0"
    }
  },
  "nbformat": 4,
  "nbformat_minor": 0
}